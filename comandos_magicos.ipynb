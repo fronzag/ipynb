{
 "cells": [
  {
   "cell_type": "markdown",
   "metadata": {},
   "source": [
    "# <span style=\"color:#336699\">SER-347 - Introdução à Programação para Sensoriamento Remoto</span>\n",
    "<hr style=\"border:2px solid #0077b9;\">\n",
    "\n",
    "# <span style=\"color:#336699\">Jupyter Notebooks - Comandos Mágicos</span>\n",
    "\n",
    "[<img src=\"http://jupyter.org/assets/nav_logo.svg\" alt=\"Project Jupyter\" style=\"height: 75px;\" align=\"right\">](http://jupyter.org)\n",
    "\n",
    "Professores:\n",
    "- Gilberto Ribeiro de Queiroz\n",
    "- Thales Sehn Körting"
   ]
  },
  {
   "cell_type": "markdown",
   "metadata": {},
   "source": [
    "O IPython oferece a possibilidade de executar comandos do sistema operacional bem como alguns comandos específicos de dentro do seu terminal interativo. Esses comandos são chamados de *comandos mágicos* (ou *magic commands*). Também podemos usar esse recurso dentro dos notebooks.\n",
    "\n",
    "Basicamente, existem dois tipos de comandos mágicos: por *linha* (*line magics*) e por *célula* (*cell magics*).\n",
    "\n",
    "Os comandos de linha, em geral, são prefixados pelo caracter `%` e tratam todos os valores após o comando até o final da linha como argumentos.\n",
    "\n",
    "O comando `ls` abaixo ilustra este tipo de comando mágico. O `ls` recebe como argumentos os valores `lh` e `/`, e produz uma listagem dos arquivos e diretórios:"
   ]
  },
  {
   "cell_type": "code",
   "execution_count": null,
   "metadata": {},
   "outputs": [],
   "source": [
    "!ls /"
   ]
  },
  {
   "cell_type": "markdown",
   "metadata": {},
   "source": [
    "Podemos utilizar os resultados dos comandos mágicos, como mostrado abaixo, onde a listagem produzida pelo comando `ls` ficará associada à variável `saida`:"
   ]
  },
  {
   "cell_type": "code",
   "execution_count": null,
   "metadata": {},
   "outputs": [],
   "source": [
    "saida = !ls /\n",
    "\n",
    "for f in saida:\n",
    "    print(\"FFF:\", f)"
   ]
  },
  {
   "cell_type": "markdown",
   "metadata": {},
   "source": [
    "Podemos também passar valores de variáveis em Python para os comandos mágicos. Para isso, basta prefixar o nome dos objetos Python com o caracter `$` ou delimitá-los como `{}`. Exemplo:"
   ]
  },
  {
   "cell_type": "code",
   "execution_count": null,
   "metadata": {},
   "outputs": [],
   "source": [
    "diretorios = [ \"/home\", \"/\", \"/usr\" ]\n",
    "\n",
    "for d in diretorios:\n",
    "    print(\"---------\")\n",
    "    !ls $d"
   ]
  },
  {
   "cell_type": "markdown",
   "metadata": {},
   "source": [
    "ou, usando os nomes de objetos delimitados por `{}`:"
   ]
  },
  {
   "cell_type": "code",
   "execution_count": null,
   "metadata": {},
   "outputs": [],
   "source": [
    "diretorios = [ \"/home\", \"/\", \"/usr\" ]\n",
    "\n",
    "for d in diretorios:\n",
    "    print(\"---------\")\n",
    "    !ls {d}"
   ]
  },
  {
   "cell_type": "markdown",
   "metadata": {},
   "source": [
    "Os comandos de linha também podem ser utilizados sem o caracter `%`, como mostrado na `Figura 1`, onde o comando mágico [`logstart`](http://ipython.readthedocs.io/en/stable/interactive/reference.html#session-logging-and-restoring) é usado para ativar a escrita de um log para salvar a sessão de comandos utilizada no terminal interativo do IPython.<br><br>\n",
    "\n",
    "<img src=\"./img/comandos-magicos/ipython-07.png\" alt=\"Terminal Interativo IPython\" width=\"640\">\n",
    "<p style=\"text-align: center\"><b>Figura 1</b> - Ativando o log no IPython.</p>\n",
    "\n",
    "\n",
    "O conteúdo do arquivo de log é mostrado na `Figura 2`. Tanto as entradas quanto as saídas são armazenadas nesse arquivo, além da data e hora de execução de cada comando na sessão.<br><br>\n",
    "\n",
    "<img src=\"./img/comandos-magicos/ipython-08.png\" alt=\"Terminal Interativo IPython\" width=\"640\">\n",
    "<p style=\"text-align: center\"><b>Figura 2</b> - Documento de log gerado pela ativação do log.</p>"
   ]
  },
  {
   "cell_type": "markdown",
   "metadata": {},
   "source": [
    "O comandos mágicos por célula (*cell magics*) são prefixados por `%%` e funcionam como comandos que tomam como argumentos todos os valores seguinte na sua linha bem como das demais linhas da sua célula. Para ilustrar esse tipo de comando, vamos utilizar o comando `%%write` para escrever o conteúdo de uma célula para um arquivo:"
   ]
  },
  {
   "cell_type": "code",
   "execution_count": null,
   "metadata": {},
   "outputs": [],
   "source": [
    "%%writefile scripts/fatorial.py\n",
    "\n",
    "n = int( input( \"Digite um número no intervalo [1, 10]: \" ) )\n",
    " \n",
    "if (n >= 1) and (n <= 10):\n",
    " \n",
    "    fat = 1\n",
    "    \n",
    "    while n > 1:\n",
    "        fat = fat * n\n",
    "        n = n - 1\n",
    " \n",
    "    print(\"fatorial:\", fat)\n",
    " \n",
    "else:\n",
    "    print(\"Número fora do intervalo [1, 10].\")\n",
    "    print(\"Rode o programa novamente!\")"
   ]
  },
  {
   "cell_type": "markdown",
   "metadata": {},
   "source": [
    "Outro comando mágico interessante consiste na inclusão de um vídeo dentro do notebook:"
   ]
  },
  {
   "cell_type": "code",
   "execution_count": null,
   "metadata": {
    "ExecuteTime": {
     "end_time": "2019-06-27T18:03:02.920044Z",
     "start_time": "2019-06-27T18:03:02.911625Z"
    }
   },
   "outputs": [],
   "source": [
    "%%HTML\n",
    "\n",
    "<iframe width=\"640\" height=\"480\" src=\"https://www.youtube.com/embed/nb8raxk2jFU\" frameborder=\"0\" allowfullscreen></iframe>"
   ]
  },
  {
   "cell_type": "markdown",
   "metadata": {},
   "source": [
    "Para realizar a tomada de tempo de algum trecho de código Python, podemos usar o comando mágico `%%timeit`"
   ]
  },
  {
   "cell_type": "code",
   "execution_count": null,
   "metadata": {},
   "outputs": [],
   "source": [
    "%%timeit\n",
    "\n",
    "lista = [x for x in range(1000000)]\n",
    "\n",
    "sum(lista)"
   ]
  },
  {
   "cell_type": "markdown",
   "metadata": {},
   "source": [
    "Para obter mais informações sobre o sistema de comandos mágicos, podemos usar `%magic`:"
   ]
  },
  {
   "cell_type": "code",
   "execution_count": null,
   "metadata": {},
   "outputs": [],
   "source": [
    "%magic"
   ]
  },
  {
   "cell_type": "markdown",
   "metadata": {},
   "source": [
    "Para obter informações sobre um determinado comando mágico, acrescente um caracter `?` ao nome do comando, como para o comando `load` abaixo:"
   ]
  },
  {
   "cell_type": "code",
   "execution_count": null,
   "metadata": {},
   "outputs": [],
   "source": [
    "%load?"
   ]
  },
  {
   "cell_type": "markdown",
   "metadata": {},
   "source": [
    "O comando `%load` permite que carreguemos um script para dentro de uma célula, como no exemplo abaixo:"
   ]
  },
  {
   "cell_type": "code",
   "execution_count": null,
   "metadata": {},
   "outputs": [],
   "source": [
    "%load scripts/fatorial.py"
   ]
  },
  {
   "cell_type": "markdown",
   "metadata": {},
   "source": [
    "Outro comando útil para uso no dia a dia é o `%run`, que permite executar qualquer script Python. No exemplo abaixo, usamos este comando para rodar o script da sequência de Fibonacci:"
   ]
  },
  {
   "cell_type": "code",
   "execution_count": null,
   "metadata": {},
   "outputs": [],
   "source": [
    "%run scripts/fibonacci.py"
   ]
  },
  {
   "cell_type": "markdown",
   "metadata": {},
   "source": [
    "A lista completa de comandos mágicos pode ser obtida através do seguinte comando:"
   ]
  },
  {
   "cell_type": "code",
   "execution_count": null,
   "metadata": {
    "scrolled": true
   },
   "outputs": [],
   "source": [
    "%lsmagic"
   ]
  }
 ],
 "metadata": {
  "kernelspec": {
   "display_name": "Python 3",
   "language": "python",
   "name": "python3"
  },
  "language_info": {
   "codemirror_mode": {
    "name": "ipython",
    "version": 3
   },
   "file_extension": ".py",
   "mimetype": "text/x-python",
   "name": "python",
   "nbconvert_exporter": "python",
   "pygments_lexer": "ipython3",
   "version": "3.7.4"
  },
  "toc": {
   "base_numbering": 1,
   "nav_menu": {},
   "number_sections": false,
   "sideBar": true,
   "skip_h1_title": false,
   "title_cell": "Table of Contents",
   "title_sidebar": "Contents",
   "toc_cell": false,
   "toc_position": {},
   "toc_section_display": true,
   "toc_window_display": false
  },
  "varInspector": {
   "cols": {
    "lenName": 16,
    "lenType": 16,
    "lenVar": 40
   },
   "kernels_config": {
    "python": {
     "delete_cmd_postfix": "",
     "delete_cmd_prefix": "del ",
     "library": "var_list.py",
     "varRefreshCmd": "print(var_dic_list())"
    },
    "r": {
     "delete_cmd_postfix": ") ",
     "delete_cmd_prefix": "rm(",
     "library": "var_list.r",
     "varRefreshCmd": "cat(var_dic_list()) "
    }
   },
   "types_to_exclude": [
    "module",
    "function",
    "builtin_function_or_method",
    "instance",
    "_Feature"
   ],
   "window_display": false
  }
 },
 "nbformat": 4,
 "nbformat_minor": 2
}
