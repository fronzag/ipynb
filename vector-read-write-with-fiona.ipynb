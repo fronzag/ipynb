{
 "cells": [
  {
   "cell_type": "markdown",
   "metadata": {},
   "source": [
    "# <span style=\"color:#336699\">SER-347 - Introdução à Programação para Sensoriamento Remoto</span>\n",
    "<hr style=\"border:2px solid #0077b9;\">\n",
    "\n",
    "# <span style=\"color:#336699\">Leitura e Escrita de Dados Vetoriais - Parte I: Usando a Biblioteca Fiona</span>\n",
    "\n",
    "\n",
    "[<img src=\"img/fiona/feature-collection.png\" alt=\"Coleção de Feições\" width=\"150\" align=\"right\">](https://www.dpi.inpe.br)\n",
    "\n",
    "\n",
    "- Gilberto Ribeiro de Queiroz\n",
    "- Thales Sehn Körting\n",
    "- Fabiano Morelli"
   ]
  },
  {
   "cell_type": "code",
   "execution_count": null,
   "metadata": {},
   "outputs": [],
   "source": [
    "!ls -l data"
   ]
  },
  {
   "cell_type": "code",
   "execution_count": null,
   "metadata": {},
   "outputs": [],
   "source": [
    "import fiona\n",
    "\n",
    "fiona.__version__"
   ]
  },
  {
   "cell_type": "code",
   "execution_count": null,
   "metadata": {},
   "outputs": [],
   "source": [
    "from shapely.geometry import shape\n",
    "from shapely.geometry import mapping"
   ]
  },
  {
   "cell_type": "code",
   "execution_count": null,
   "metadata": {},
   "outputs": [],
   "source": [
    "with fiona.open(\"data/deter/deter_201707.shp\", \"r\") as deter:\n",
    "\n",
    "    # Número de feições\n",
    "    num_features = len( deter )\n",
    "\n",
    "    print( \"Número de feições: {}\\n\". format( num_features ) )\n",
    "\n",
    "\n",
    "    # Sistema de Referência Espacial\n",
    "    crs = deter.crs\n",
    "\n",
    "    print( \"CRS: {}\\n\".format(crs) )\n",
    "\n",
    "\n",
    "    # Extensão da coleção de feições\n",
    "    mbr = deter.bounds\n",
    "\n",
    "    print( \"xmin: {}, xmax: {}\".format(mbr[0], mbr[2]) )\n",
    "    print( \"ymin: {}, ymax: {}\\n\".format(mbr[1], mbr[3]) )\n",
    "\n",
    "\n",
    "    # Esquema das feições\n",
    "    for k, v in deter.schema[\"properties\"].items():\n",
    "        print( \"Atributo: {}, Tipo: {}\".format(k, v) )\n",
    "\n",
    "    print(\"\\nTipo do atributo geométrico: {}\\n\". format(deter.schema[\"geometry\"]) )\n",
    "\n",
    "\n",
    "    # Acessando cada uma das feições\n",
    "    for feature in deter:\n",
    "        # obtendo a geometria associada a feição\n",
    "        geom = shape( feature[\"geometry\"] )\n",
    "\n",
    "        # obtendo o atributo de data associado a feição\n",
    "        view_date = feature[\"properties\"][\"view_date\"]\n",
    "\n",
    "        # computando o centróide da geometria recuperada\n",
    "        centroide = geom.centroid\n",
    "\n",
    "        print( \"view_date: {}, Localização: {}\".format(view_date, centroide.wkt) )"
   ]
  },
  {
   "cell_type": "code",
   "execution_count": null,
   "metadata": {},
   "outputs": [],
   "source": [
    "with fiona.open('data/uf-2018/BRUFE250GC_SIR.shp', 'r') as uf:\n",
    "    source_driver = uf.driver\n",
    "    source_crs = uf.crs\n",
    "    source_schema = uf.schema"
   ]
  },
  {
   "cell_type": "code",
   "execution_count": null,
   "metadata": {},
   "outputs": [],
   "source": [
    "source_driver"
   ]
  },
  {
   "cell_type": "code",
   "execution_count": null,
   "metadata": {},
   "outputs": [],
   "source": [
    "source_crs"
   ]
  },
  {
   "cell_type": "code",
   "execution_count": null,
   "metadata": {},
   "outputs": [],
   "source": [
    "source_schema"
   ]
  },
  {
   "cell_type": "code",
   "execution_count": null,
   "metadata": {},
   "outputs": [],
   "source": [
    "type(source_schema)"
   ]
  },
  {
   "cell_type": "code",
   "execution_count": null,
   "metadata": {},
   "outputs": [],
   "source": [
    "new_schema = dict(source_schema)"
   ]
  },
  {
   "cell_type": "code",
   "execution_count": null,
   "metadata": {},
   "outputs": [],
   "source": [
    "new_schema[\"geometry\"] = \"Point\""
   ]
  },
  {
   "cell_type": "code",
   "execution_count": null,
   "metadata": {},
   "outputs": [],
   "source": [
    "new_schema"
   ]
  },
  {
   "cell_type": "code",
   "execution_count": null,
   "metadata": {},
   "outputs": [],
   "source": [
    "with fiona.open(\"data/centroide.shp\", \"w\",\n",
    "                driver=source_driver,\n",
    "                crs=source_crs,\n",
    "                schema=new_schema) as centroides:\n",
    "    with fiona.open(\"data/uf-2018/BRUFE250GC_SIR.shp\", \"r\") as uf:\n",
    "\n",
    "        for feature in uf:\n",
    "            geom = shape( feature[\"geometry\"] )\n",
    "\n",
    "            centroide = geom.centroid\n",
    "\n",
    "            feature[\"geometry\"] = mapping(centroide)\n",
    "\n",
    "            centroides.write(feature)"
   ]
  }
 ],
 "metadata": {
  "kernelspec": {
   "display_name": "Python (Geospatial)",
   "language": "python",
   "name": "geospatial"
  },
  "language_info": {
   "codemirror_mode": {
    "name": "ipython",
    "version": 3
   },
   "file_extension": ".py",
   "mimetype": "text/x-python",
   "name": "python",
   "nbconvert_exporter": "python",
   "pygments_lexer": "ipython3",
   "version": "3.7.7"
  }
 },
 "nbformat": 4,
 "nbformat_minor": 2
}
