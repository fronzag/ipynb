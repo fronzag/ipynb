{
 "cells": [
  {
   "cell_type": "markdown",
   "metadata": {
    "nbpresent": {
     "id": "1510d5d9-6e07-4649-8562-7d7e3b14b5b5"
    }
   },
   "source": [
    "# <span style=\"color:#336699\">SER-347 - Introdução à Programação para Sensoriamento Remoto</span>\n",
    "<hr style=\"border:2px solid #0077b9;\">\n",
    "\n",
    "# <span style=\"color:#336699\">GDAL - Parte 1</span>\n",
    "\n",
    "[<img src=\"http://gdal.org/gdalicon.png\" alt=\"GDAL\" align=\"right\">](http://gdal.org)\n",
    "\n",
    "Professores:\n",
    "- Thales Sehn Körting\n",
    "- Gilberto Ribeiro de Queiroz"
   ]
  },
  {
   "cell_type": "markdown",
   "metadata": {},
   "source": [
    "Para as aulas sobre imagens, vamos precisar baixar o arquivo [raster.zip](https://github.com/ser-347/ipynb/raw/master/data/raster.zip) e descompactá-lo na mesma pasta onde estiver rodando este jupyter notebook."
   ]
  },
  {
   "cell_type": "code",
   "execution_count": 1,
   "metadata": {},
   "outputs": [
    {
     "name": "stdout",
     "output_type": "stream",
     "text": [
      "2.3.3\n"
     ]
    }
   ],
   "source": [
    "# importar biblioteca\n",
    "from osgeo import gdal\n",
    "\n",
    "# importar constantes\n",
    "from gdalconst import *\n",
    "\n",
    "# informar o uso de exceções\n",
    "gdal.UseExceptions()\n",
    "\n",
    "# mostrar versão instalada\n",
    "print (gdal.__version__)"
   ]
  },
  {
   "cell_type": "markdown",
   "metadata": {},
   "source": [
    "## Raster\n",
    "\n",
    "<img src=\"https://upload.wikimedia.org/wikipedia/commons/thumb/8/8f/Hark_%28rake%29.jpg/100px-Hark_%28rake%29.jpg\" align=\"right\" width=\"50\">Antes de conhecer a biblioteca GDAL, vamos compreender algumas propriedades das imagens.\n",
    "\n",
    "The word **raster** has its origins in the Latin _rastrum_ (a rake, *ancinho*), which is derived from radere (to scrape, *raspar/arranhar*). It originates from the raster scan video monitors, which paint the image line by line by magnetically steering a focused electron beam. \n",
    "\n",
    "By association, it can also refer to a rectangular grid of pixels. The word rastrum is now used to refer to a device for drawing musical staff lines.\n",
    "\n",
    "Fonte: <a href=https://en.wikipedia.org/wiki/Raster_graphics#Etymology>Wikipedia</a>\n",
    "\n",
    "## Estrutura de armazenamento\n",
    "\n",
    "Um raster pode ser armazenado de diferentes formas, uma delas é através do armazenamento individual, um raster independente para cada banda. Neste caso, cada arquivo possui metadados (sistema de coordenadas, limites geográficos), independentes. Veja por exemplo as imagens do CBERS-2B:\n",
    "  * CBERS_2B_CCD1XS_20080223_148_120_L2_BAND2.tif (raster 0)\n",
    "  * CBERS_2B_CCD1XS_20080223_148_120_L2_BAND3.tif (raster 1)\n",
    "  * CBERS_2B_CCD1XS_20080223_148_120_L2_BAND4.tif (raster 2)\n",
    "\n",
    "_A associação de cores a seguir é apenas ilustrativa._\n",
    "<img src=\"http://www.dpi.inpe.br/terralib5/wiki/lib/exe/fetch.php?w=300&tok=779221&media=wiki:designimplementation:raster:one-band-per-raster.png\">\n",
    "\n",
    "Outra maneira é armazenar diversas bandas no mesmo arquivo. Neste caso, o conjunto de metadados vale para todas as bandas. Por exemplo, imagens do WorldView-2 podem ser obtidas em um único arquivo GeoTIFF:\n",
    "  * WV2_MUL_2_BLUE (band 0)\n",
    "  * WV2_MUL_3_GREEN (band 1)\n",
    "  * WV2_MUL_5_RED (band 2)\n",
    "\n",
    "<img src=\"http://www.dpi.inpe.br/terralib5/wiki/lib/exe/fetch.php?w=150&tok=a8aa26&media=wiki:designimplementation:raster:multiple-bands-per-raster.png\">\n",
    "\n",
    "**Obs.:** Um raster pode ter qualquer número de bandas, desde que suportado pelo seu formato.\n",
    "\n",
    "## Grade\n",
    "A grade (*grid*) contém metadados relacionados às imagens, incluindo:\n",
    "  * limites geográficos\n",
    "  * sistema de referência espacial\n",
    "  * número de linhas/colunas\n",
    "  * 6 coeficientes para transformação afim:\n",
    "    * [0] is the x coordinate of the upper left cell in raster\n",
    "    * [1] is the width of the elements in the raster\n",
    "    * [2] is the element rotation in x, is set to 0 if a north up raster\n",
    "    * [3] is the y coordinate of the upper left cell in raster\n",
    "    * [4] is the element rotation in y, is set to 0 if a north up raster\n",
    "    * [5] is the height of the elements in the raster (negative)\n",
    "\n",
    "## Banda\n",
    "A banda (*band*) é que contém as informações dos níveis digitais das imagens, além de outras propriedades:\n",
    "  * NoDataValue\n",
    "  * Minimum/Maximum\n",
    "  * Histogram\n",
    "  * Tipo de dados\n",
    "  * Estatísticas (média/desvio padrão)\n",
    "  * matriz de pixels\n",
    "  "
   ]
  },
  {
   "cell_type": "markdown",
   "metadata": {},
   "source": [
    "## Abertura de um arquivo raster\n",
    "\n",
    "A função **Open** é utilizada para abrir um conjunto de dados (*dataset*), que exige dois parâmetros:\n",
    "  * **Nome do Arquivo**: caminho e nome completo\n",
    "  * **Forma de Acesso**: informação se a abertura será apenas para leitura ou também alteração no arquivo (*GA_ReadOnly* ou *GA_Update*)."
   ]
  },
  {
   "cell_type": "code",
   "execution_count": 2,
   "metadata": {
    "nbpresent": {
     "id": "bbf88800-47e6-4b79-8d70-c0bdc3d71b51"
    }
   },
   "outputs": [],
   "source": [
    "# criar o dataset abrindo o arquivo para leitura\n",
    "filename = \"./raster/crop_rapideye.tif\"\n",
    "dataset = gdal.Open(filename, GA_ReadOnly)\n",
    "\n",
    "# fechar o dataset e liberar memória\n",
    "dataset = None "
   ]
  },
  {
   "cell_type": "markdown",
   "metadata": {
    "nbpresent": {
     "id": "b510326b-998f-4250-8913-8fb5b1bf471d"
    }
   },
   "source": [
    "### Dica de boa prática de desenvolvimento\n",
    "Ao efetuar o comando de abertura de um arquivo, pode ocorrer uma mensagem de erro caso exista falha na localização do arquivo ou ainda se o mesmo estiver corrompido. Por isso uma boa prática é sempre fazer um teste utilizando *try/except*, conforme mostrado no exemplo abaixo."
   ]
  },
  {
   "cell_type": "code",
   "execution_count": 3,
   "metadata": {
    "nbpresent": {
     "id": "61701d03-7dbb-47b0-9b3f-f7e40747d704"
    }
   },
   "outputs": [
    {
     "name": "stdout",
     "output_type": "stream",
     "text": [
      "Tentar abrir teste/./raster/crop_rapideye.tif\n",
      "Erro na abertura do arquivo!\n",
      "Tentar abrir./raster/crop_rapideye.tif\n",
      "Arquivo aberto com sucesso!\n"
     ]
    }
   ],
   "source": [
    "# biblioteca de funções relacionadas ao sistema\n",
    "# sys: System-specific parameters and functions\n",
    "import sys\n",
    "\n",
    "filename_com_erro = \"teste/\" + filename\n",
    "print (\"Tentar abrir\", filename_com_erro)\n",
    "try:\n",
    "    dataset = gdal.Open(filename_com_erro, GA_ReadOnly)\n",
    "    print (\"Arquivo aberto com sucesso!\")\n",
    "except:\n",
    "    print(\"Erro na abertura do arquivo!\")\n",
    "    \n",
    "print (\"Tentar abrir\" + filename)\n",
    "try:\n",
    "    dataset = gdal.Open(filename, GA_ReadOnly)\n",
    "    print (\"Arquivo aberto com sucesso!\")\n",
    "except:\n",
    "    print(\"Erro na abertura do arquivo!\")\n",
    "\n",
    "# fechar o dataset e liberar memória\n",
    "dataset = None"
   ]
  },
  {
   "cell_type": "markdown",
   "metadata": {
    "nbpresent": {
     "id": "39a8b60a-3391-4ece-a3e5-f5f20a7ab0a2"
    }
   },
   "source": [
    "## Manipulação do DATASET\n",
    "\n",
    "Um dataset de um raster pode conter uma ou mais bandas (ou camadas de dados) que podem representar variações de canais espectrais de um mesmo sensor ou de uma mesma variável ao longo do tempo. Sempre, cada banda de um dataset possui as mesmas dimensões em X e Y (colunas e linhas), e com isto recobrem a mesma extensão espacial."
   ]
  },
  {
   "cell_type": "code",
   "execution_count": 4,
   "metadata": {
    "nbpresent": {
     "id": "1be1378c-6d43-408d-88d5-352ef9d88d0f"
    }
   },
   "outputs": [
    {
     "name": "stdout",
     "output_type": "stream",
     "text": [
      "(508810.0, 5.0, 0.0, 7857490.0, 0.0, -5.0)\n"
     ]
    }
   ],
   "source": [
    "# criar o dataset abrindo o arquivo novamente\n",
    "filename = \"./raster/crop_rapideye.tif\"\n",
    "try:\n",
    "    dataset = gdal.Open(filename, GA_ReadOnly)\n",
    "except:\n",
    "    print(\"Erro na abertura do arquivo!\")\n",
    "\n",
    "geotransform = dataset.GetGeoTransform()\n",
    "print (geotransform)"
   ]
  },
  {
   "cell_type": "markdown",
   "metadata": {
    "nbpresent": {
     "id": "08c48f75-c7c1-4dc1-99c1-298387e0ab92"
    }
   },
   "source": [
    "Como pode ser observado na listagem acima o método **GetGeoTransform** retorna uma tupla com os respectivos valores citados anteriormente, referentes à transformação de georreferenciamento do dataset utilizado como exemplo."
   ]
  },
  {
   "cell_type": "code",
   "execution_count": 5,
   "metadata": {},
   "outputs": [
    {
     "name": "stdout",
     "output_type": "stream",
     "text": [
      "Latitude inicial do dataset: 7857490.0\n",
      "Longitude inicial do dataset: 508810.0\n",
      "Resolução (x) do dataset: 5.0\n",
      "Resolução (y) do dataset: 5.0\n"
     ]
    }
   ],
   "source": [
    "# [0] is the x coordinate of the upper left cell in raster\n",
    "# [1] is the width of the elements in the raster\n",
    "# [2] is the element rotation in x, is set to 0 if a north up raster\n",
    "# [3] is the y coordinate of the upper left cell in raster\n",
    "# [4] is the element rotation in y, is set to 0 if a north up raster\n",
    "# [5] is the height of the elements in the raster (negative)\n",
    "\n",
    "latitude = geotransform[3]\n",
    "longitude = geotransform[0]\n",
    "resolucao_x = geotransform[1]\n",
    "resolucao_y = -geotransform[5]\n",
    "\n",
    "print (\"Latitude inicial do dataset:\", latitude)\n",
    "print (\"Longitude inicial do dataset:\", longitude)\n",
    "print (\"Resolução (x) do dataset:\", resolucao_x)\n",
    "print (\"Resolução (y) do dataset:\", resolucao_y)"
   ]
  },
  {
   "cell_type": "markdown",
   "metadata": {
    "nbpresent": {
     "id": "84a655f3-4533-46ef-9caa-05d1c350f91a"
    }
   },
   "source": [
    "Para saber qual o sistema de coordenadas neste dataset, deve ser utilizado o método **GetProjectionRef** que retorna uma descrição em formato WKT (*Well-Known Text*), que é uma linguagem de marcação de texto utilizada para representar um sistema de referência espacial dos objetos geográficos e a transformação entre sistemas de coordenadas."
   ]
  },
  {
   "cell_type": "code",
   "execution_count": 6,
   "metadata": {
    "nbpresent": {
     "id": "d128c61d-c2b2-4194-bb29-33a32476bf96"
    }
   },
   "outputs": [
    {
     "name": "stdout",
     "output_type": "stream",
     "text": [
      "PROJCS[\"WGS 84 / UTM zone 21S\",GEOGCS[\"WGS 84\",DATUM[\"WGS_1984\",SPHEROID[\"WGS 84\",6378137,298.257223563,AUTHORITY[\"EPSG\",\"7030\"]],AUTHORITY[\"EPSG\",\"6326\"]],PRIMEM[\"Greenwich\",0,AUTHORITY[\"EPSG\",\"8901\"]],UNIT[\"degree\",0.0174532925199433,AUTHORITY[\"EPSG\",\"9122\"]],AUTHORITY[\"EPSG\",\"4326\"]],PROJECTION[\"Transverse_Mercator\"],PARAMETER[\"latitude_of_origin\",0],PARAMETER[\"central_meridian\",-57],PARAMETER[\"scale_factor\",0.9996],PARAMETER[\"false_easting\",500000],PARAMETER[\"false_northing\",10000000],UNIT[\"metre\",1,AUTHORITY[\"EPSG\",\"9001\"]],AXIS[\"Easting\",EAST],AXIS[\"Northing\",NORTH],AUTHORITY[\"EPSG\",\"32721\"]]\n"
     ]
    }
   ],
   "source": [
    "print (dataset.GetProjectionRef())"
   ]
  },
  {
   "cell_type": "markdown",
   "metadata": {
    "nbpresent": {
     "id": "3a7e6cc5-3f83-4b3f-8172-a219199981dc"
    }
   },
   "source": [
    "Um Sistema de Referência Espacial _(Spatial Reference System - SRS)_ ou sistema de coordenadas de referência (*Coordinate Reference System - CRS*) pode ser um sistema local, regional ou global baseado usado para localizar objetos geográficos.\n",
    "\n",
    "Para permitir uma maior interoperabilidade e facilidade na utilização, vários sistemas de informação geográfica fazem referência a um Sistema de Referência Espacial indicando apenas um número inteiro que representa o **SRID** ou códigos **EPSG** que são definidos pela Associação Internacional de Produtores de Petróleo e Gás.\n",
    "\n",
    "Para identificar os códigos corretos para o sistema de referência espacial do seu interesse pode ser utilizado os seguintes portais:\n",
    "\n",
    "http://epsg.io\n",
    "\n",
    "http://spatialreference.org "
   ]
  },
  {
   "cell_type": "markdown",
   "metadata": {},
   "source": [
    "## Dimensões do arquivo\n",
    "Para saber o número de linhas e colunas do dataset que está sendo utilizado devemos utilizar o método **RasterYSize** e **RasterXSize** conforme pode ser visto no **exemplo**:"
   ]
  },
  {
   "cell_type": "code",
   "execution_count": 7,
   "metadata": {
    "nbpresent": {
     "id": "c8c89aa7-56b8-4164-8479-de1ee8680826"
    }
   },
   "outputs": [
    {
     "name": "stdout",
     "output_type": "stream",
     "text": [
      "Número de linhas: 771\n",
      "Número de colunas: 1169\n"
     ]
    }
   ],
   "source": [
    "# número de linhas e colunas\n",
    "linhas = dataset.RasterYSize\n",
    "colunas = dataset.RasterXSize\n",
    "\n",
    "print (\"Número de linhas:\", linhas)\n",
    "print (\"Número de colunas:\", colunas)"
   ]
  },
  {
   "cell_type": "markdown",
   "metadata": {
    "nbpresent": {
     "id": "1b1747fe-f228-437b-9f10-3626d183aaab"
    }
   },
   "source": [
    "## Leitura dos dados de uma banda do arquivo\n",
    "\n",
    "Depois da abertura do arquivo e da geração do dataset, a leitura de cada banda deve ser realizada individualmente e de forma repetida iniciando a partir da banda 1 até o total de bandas de cada arquivo, que pode ser obtido por meio do método **RasterCount**"
   ]
  },
  {
   "cell_type": "code",
   "execution_count": 8,
   "metadata": {
    "nbpresent": {
     "id": "996ffd7c-669f-4ceb-b204-bf7f18775697"
    }
   },
   "outputs": [
    {
     "name": "stdout",
     "output_type": "stream",
     "text": [
      "Número de bandas: 5\n"
     ]
    }
   ],
   "source": [
    "# quantidade de bandas\n",
    "bandas = dataset.RasterCount\n",
    "\n",
    "print (\"Número de bandas:\", bandas)\n",
    "\n",
    "# no caso da imagem RapidEye, as bandas 5\n",
    "# e 3 correspondem às bandas NIR e RED\n",
    "banda_nir = dataset.GetRasterBand(5)\n",
    "banda_red = dataset.GetRasterBand(3)"
   ]
  },
  {
   "cell_type": "markdown",
   "metadata": {
    "nbpresent": {
     "id": "ebeb97be-2a21-4659-b8d4-38680f079cf5"
    }
   },
   "source": [
    "Uma propriedade importante para manipulação correta dos dados é conferir o tipo do dado armazenado e que acaba de ser lido a partir da banda."
   ]
  },
  {
   "cell_type": "code",
   "execution_count": 9,
   "metadata": {
    "nbpresent": {
     "id": "f6dd2f92-0720-4e3f-96cf-37cb7e01a571"
    }
   },
   "outputs": [
    {
     "name": "stdout",
     "output_type": "stream",
     "text": [
      "Tipos de dados:\n",
      " - banda NIR: UInt16\n",
      " - banda RED: UInt16\n"
     ]
    }
   ],
   "source": [
    "print (\"Tipos de dados:\")\n",
    "print (\" - banda NIR:\", gdal.GetDataTypeName(banda_nir.DataType))\n",
    "print (\" - banda RED:\", gdal.GetDataTypeName(banda_red.DataType))"
   ]
  },
  {
   "cell_type": "markdown",
   "metadata": {
    "nbpresent": {
     "id": "225eb2f6-10aa-4b3f-b689-07766b4b9e61"
    }
   },
   "source": [
    "É possível saber quais os valores mínimo e máximo dos pixels de uma banda utilizando o método da banda **ComputeRasterMinMax**"
   ]
  },
  {
   "cell_type": "code",
   "execution_count": 10,
   "metadata": {
    "nbpresent": {
     "id": "3c0c94b6-14da-4662-b624-50da9f28debe"
    }
   },
   "outputs": [
    {
     "name": "stdout",
     "output_type": "stream",
     "text": [
      "Menor valor de RED: 0.0\n",
      "Maior valor de RED: 20693.0\n"
     ]
    }
   ],
   "source": [
    "(menor_valor, maior_valor) = banda_red.ComputeRasterMinMax()\n",
    "print(\"Menor valor de RED:\", menor_valor)\n",
    "print(\"Maior valor de RED:\", maior_valor)"
   ]
  },
  {
   "cell_type": "markdown",
   "metadata": {
    "nbpresent": {
     "id": "8801f4d0-d8fb-4881-a74c-3375cd05ca83"
    }
   },
   "source": [
    "## Exercício\n",
    "\n",
    "Escreva um programa para apresentar os valores mínimos e máximos de todas as bandas do raster de trabalho"
   ]
  },
  {
   "cell_type": "code",
   "execution_count": 11,
   "metadata": {
    "nbpresent": {
     "id": "2ef3e4cb-062b-4943-910d-d711f0f02971"
    }
   },
   "outputs": [
    {
     "name": "stdout",
     "output_type": "stream",
     "text": [
      "Mínimos e máximos da banda 1\n",
      "(0.0, 18381.0)\n",
      "Mínimos e máximos da banda 2\n",
      "(0.0, 18851.0)\n",
      "Mínimos e máximos da banda 3\n",
      "(0.0, 20693.0)\n",
      "Mínimos e máximos da banda 4\n",
      "(0.0, 16055.0)\n",
      "Mínimos e máximos da banda 5\n",
      "(0.0, 17264.0)\n"
     ]
    }
   ],
   "source": [
    "for i in range(bandas):\n",
    "    print (\"Mínimos e máximos da banda\", i + 1)\n",
    "    print (dataset.GetRasterBand(i + 1).ComputeRasterMinMax())"
   ]
  },
  {
   "cell_type": "markdown",
   "metadata": {
    "nbpresent": {
     "id": "54bc2e22-8af3-49ff-a965-6164f1b85a9b"
    }
   },
   "source": [
    "Depois de criado o objeto banda, precisamos ler os dados para iniciar qualquer processamento com estes valores. Uma maneira muito utilizada é manipular os dados matriciais com auxílio da biblioteca **NumPy**, através do método **ReadAsArray** para leitura dos valores gerando um array multidimensional. \n",
    "\n",
    "Outra informação importante é saber se a matriz que foi gerada com a leitura da banda foi criada com o número de linhas e colunas de forma correta, isto pode ser feito pelo método **shape**."
   ]
  },
  {
   "cell_type": "code",
   "execution_count": 12,
   "metadata": {
    "nbpresent": {
     "id": "7bdec40d-437b-4e89-9605-653ffde5bf15"
    }
   },
   "outputs": [
    {
     "name": "stdout",
     "output_type": "stream",
     "text": [
      "(771, 1169)\n"
     ]
    }
   ],
   "source": [
    "# obtencao dos arrays numpy das bandas\n",
    "array_red = banda_red.ReadAsArray().astype(float)\n",
    "array_nir = banda_nir.ReadAsArray().astype(float)\n",
    "\n",
    "# geracao de array derivado das bandas\n",
    "array_ndvi = (array_nir - array_red) / (array_nir + array_red + 0.000000001)\n",
    "\n",
    "# mostrar dimensoes da matriz de saida\n",
    "print(array_ndvi.shape)"
   ]
  },
  {
   "cell_type": "markdown",
   "metadata": {},
   "source": [
    "Podemos combinar as bibliotecas **NumPy** e **Matplotlib** para visualizar as matrizes como imagens."
   ]
  },
  {
   "cell_type": "code",
   "execution_count": 13,
   "metadata": {},
   "outputs": [
    {
     "data": {
      "image/png": "[encoded data removed]",
      "text/plain": [
       "<Figure size 1152x576 with 3 Axes>"
      ]
     },
     "metadata": {
      "needs_background": "light"
     },
     "output_type": "display_data"
    }
   ],
   "source": [
    "import matplotlib.pyplot as plt\n",
    "\n",
    "plt.figure(figsize=(16, 8))\n",
    "\n",
    "plt.subplot(131)\n",
    "plt.title(\"Banda RED\")\n",
    "plt.imshow(array_red, cmap='gray');\n",
    "\n",
    "plt.subplot(132)\n",
    "plt.title(\"Banda NIR\")\n",
    "plt.imshow(array_nir, cmap='gray');\n",
    "\n",
    "plt.subplot(133)\n",
    "plt.title(\"NDVI\")\n",
    "plt.imshow(array_ndvi, cmap='gray', vmin=-1.0, vmax=1.0);"
   ]
  }
 ],
 "metadata": {
  "anaconda-cloud": {},
  "kernelspec": {
   "display_name": "Python 3",
   "language": "python",
   "name": "python3"
  },
  "language_info": {
   "codemirror_mode": {
    "name": "ipython",
    "version": 3
   },
   "file_extension": ".py",
   "mimetype": "text/x-python",
   "name": "python",
   "nbconvert_exporter": "python",
   "pygments_lexer": "ipython3",
   "version": "3.7.4"
  },
  "nbpresent": {
   "slides": {
    "0d23ba6f-7dcf-4046-8504-74bc5dca6523": {
     "id": "0d23ba6f-7dcf-4046-8504-74bc5dca6523",
     "prev": "556d4fb9-3925-4d67-9dab-93ed50427c2a",
     "regions": {
      "5686b45e-04f0-434e-89f2-d4f7baf5a9a5": {
       "attrs": {
        "height": 0.8,
        "width": 0.8,
        "x": 0.1,
        "y": 0.1
       },
       "content": {
        "cell": "b1ce64b6-5aac-4eee-8a46-8a2a8835611a",
        "part": "whole"
       },
       "id": "5686b45e-04f0-434e-89f2-d4f7baf5a9a5"
      }
     }
    },
    "12d37ee3-5e9c-4c28-8942-a23d39c44621": {
     "id": "12d37ee3-5e9c-4c28-8942-a23d39c44621",
     "prev": "a5c460db-cc52-4ca6-9026-2bb5879edd8f",
     "regions": {
      "a422d7d8-bcad-46e5-801a-2c4e71abf96d": {
       "attrs": {
        "height": 0.8,
        "width": 0.8,
        "x": 0.1,
        "y": 0.1
       },
       "content": {
        "cell": "bf15a79a-b16e-44b6-a8fd-d23d8fea8e79",
        "part": "whole"
       },
       "id": "a422d7d8-bcad-46e5-801a-2c4e71abf96d"
      }
     }
    },
    "137170c0-bb51-4ae5-bd36-975e29a3a3ca": {
     "id": "137170c0-bb51-4ae5-bd36-975e29a3a3ca",
     "prev": "97b5d4b8-8367-4caf-9c45-59e8d12620dd",
     "regions": {
      "73cc5520-8f96-4a64-bcca-33bc7b778644": {
       "attrs": {
        "height": 0.8,
        "width": 0.8,
        "x": 0.1,
        "y": 0.1
       },
       "content": {
        "cell": "cd69917b-d7ee-4992-a432-a0aaae6f50cc",
        "part": "whole"
       },
       "id": "73cc5520-8f96-4a64-bcca-33bc7b778644"
      }
     }
    },
    "2eb7e6dc-7f31-48a3-b889-031e254ecd20": {
     "id": "2eb7e6dc-7f31-48a3-b889-031e254ecd20",
     "prev": "bcefe411-8843-40eb-a700-202d25f9f3ac",
     "regions": {
      "ed43d924-294f-442d-be5c-e1bcbaefa694": {
       "attrs": {
        "height": 0.8,
        "width": 0.8,
        "x": 0.1,
        "y": 0.1
       },
       "content": {
        "cell": "56a1a7c1-c678-4f4d-a6d3-9dcd3b313108",
        "part": "whole"
       },
       "id": "ed43d924-294f-442d-be5c-e1bcbaefa694"
      }
     }
    },
    "3212fcce-e22e-462d-90f2-49141028dba2": {
     "id": "3212fcce-e22e-462d-90f2-49141028dba2",
     "prev": "39b9960e-e53e-4a2d-ab34-241bdbc364e5",
     "regions": {
      "1ed9e55b-b3b0-49d4-a3f5-c8e8e0dcc1b0": {
       "attrs": {
        "height": 0.8,
        "width": 0.8,
        "x": 0.1,
        "y": 0.1
       },
       "content": {
        "cell": "b572e0bf-74a7-442a-bc3b-5c357f99efb0",
        "part": "whole"
       },
       "id": "1ed9e55b-b3b0-49d4-a3f5-c8e8e0dcc1b0"
      }
     }
    },
    "335fb7de-8bf4-4fa0-b166-36cece4153de": {
     "id": "335fb7de-8bf4-4fa0-b166-36cece4153de",
     "prev": "3524d9a9-4c19-4461-80c8-942da5c4fe6e",
     "regions": {
      "ef57335d-22f1-4843-8523-5c4f0a38d8ef": {
       "attrs": {
        "height": 0.8,
        "width": 0.8,
        "x": 0.1,
        "y": 0.1
       },
       "content": {
        "cell": "1b1747fe-f228-437b-9f10-3626d183aaab",
        "part": "whole"
       },
       "id": "ef57335d-22f1-4843-8523-5c4f0a38d8ef"
      }
     }
    },
    "339a2f3a-f000-4b9e-8d1f-7f6d9cfd0394": {
     "id": "339a2f3a-f000-4b9e-8d1f-7f6d9cfd0394",
     "prev": "3cd53ddd-159a-48e8-bed6-82c379776520",
     "regions": {
      "49cffb0c-2540-47c2-9c05-f35065077ba0": {
       "attrs": {
        "height": 0.8,
        "width": 0.8,
        "x": 0.1,
        "y": 0.1
       },
       "content": {
        "cell": "3cc7845d-c219-46c4-b6cc-821ca2058ab9",
        "part": "whole"
       },
       "id": "49cffb0c-2540-47c2-9c05-f35065077ba0"
      }
     }
    },
    "3524d9a9-4c19-4461-80c8-942da5c4fe6e": {
     "id": "3524d9a9-4c19-4461-80c8-942da5c4fe6e",
     "prev": "7ab20680-f22f-4fed-8c96-7b54485b2baa",
     "regions": {
      "7c8b2827-4edb-4c9e-9de4-322019a910f8": {
       "attrs": {
        "height": 0.8,
        "width": 0.8,
        "x": 0.1,
        "y": 0.1
       },
       "content": {
        "cell": "c8c89aa7-56b8-4164-8479-de1ee8680826",
        "part": "whole"
       },
       "id": "7c8b2827-4edb-4c9e-9de4-322019a910f8"
      }
     }
    },
    "3762fe55-6a13-43d3-8237-1158d151ae73": {
     "id": "3762fe55-6a13-43d3-8237-1158d151ae73",
     "prev": "97195078-f02c-4c0d-93bb-09e6144e3bb4",
     "regions": {
      "110b99c9-6bec-4213-ba96-69dc72cb1bb2": {
       "attrs": {
        "height": 0.8,
        "width": 0.8,
        "x": 0.1,
        "y": 0.1
       },
       "content": {
        "cell": "1be1378c-6d43-408d-88d5-352ef9d88d0f",
        "part": "whole"
       },
       "id": "110b99c9-6bec-4213-ba96-69dc72cb1bb2"
      }
     }
    },
    "38ff6246-a692-4505-8724-46a32ba6bd83": {
     "id": "38ff6246-a692-4505-8724-46a32ba6bd83",
     "prev": "d62c93d0-6b3b-4a1a-bf1e-c8fa775b1e7f",
     "regions": {
      "0d921035-18b9-49b6-bbf5-01349dcee469": {
       "attrs": {
        "height": 0.8,
        "width": 0.8,
        "x": 0.1,
        "y": 0.1
       },
       "content": {
        "cell": "99fe4c93-f1a7-48d4-9391-62878778315c",
        "part": "whole"
       },
       "id": "0d921035-18b9-49b6-bbf5-01349dcee469"
      }
     }
    },
    "394673a4-5d58-4033-9c89-586f53638022": {
     "id": "394673a4-5d58-4033-9c89-586f53638022",
     "prev": "61c9cb9a-ae1d-4927-b43d-d51fe6f87ef4",
     "regions": {
      "f428bb27-ef26-4bbd-9457-c4e2d728d8a8": {
       "attrs": {
        "height": 0.8,
        "width": 0.8,
        "x": 0.1,
        "y": 0.1
       },
       "content": {
        "cell": "39f1062f-3f75-41d9-8ffa-86f406730c1d",
        "part": "whole"
       },
       "id": "f428bb27-ef26-4bbd-9457-c4e2d728d8a8"
      }
     }
    },
    "396ef117-777c-4bf8-947f-da3709e4c77b": {
     "id": "396ef117-777c-4bf8-947f-da3709e4c77b",
     "prev": "3bacb161-5e5c-480f-9e64-0d0a155d5c45",
     "regions": {
      "837f9a5f-dc00-40c7-95d4-b8011d14ff03": {
       "attrs": {
        "height": 0.8,
        "width": 0.8,
        "x": 0.1,
        "y": 0.1
       },
       "content": {
        "cell": "70aa8c34-91a8-4c81-94f8-232655679c07",
        "part": "whole"
       },
       "id": "837f9a5f-dc00-40c7-95d4-b8011d14ff03"
      }
     }
    },
    "39b9960e-e53e-4a2d-ab34-241bdbc364e5": {
     "id": "39b9960e-e53e-4a2d-ab34-241bdbc364e5",
     "prev": "4606b64a-e29b-4f11-b8e2-a76e5f77e5fa",
     "regions": {
      "e5982913-2311-49f3-a6c8-ff515bc8a366": {
       "attrs": {
        "height": 0.8,
        "width": 0.8,
        "x": 0.1,
        "y": 0.1
       },
       "content": {
        "cell": "92380c8d-37bc-40a1-8610-01ef7d004278",
        "part": "whole"
       },
       "id": "e5982913-2311-49f3-a6c8-ff515bc8a366"
      }
     }
    },
    "3aa54638-409a-4cef-9072-ddcbba7ad20d": {
     "id": "3aa54638-409a-4cef-9072-ddcbba7ad20d",
     "prev": "335fb7de-8bf4-4fa0-b166-36cece4153de",
     "regions": {
      "63aa2e1a-7c95-471a-baed-aaf34bb04ce9": {
       "attrs": {
        "height": 0.8,
        "width": 0.8,
        "x": 0.1,
        "y": 0.1
       },
       "content": {
        "cell": "996ffd7c-669f-4ceb-b204-bf7f18775697",
        "part": "whole"
       },
       "id": "63aa2e1a-7c95-471a-baed-aaf34bb04ce9"
      }
     }
    },
    "3bacb161-5e5c-480f-9e64-0d0a155d5c45": {
     "id": "3bacb161-5e5c-480f-9e64-0d0a155d5c45",
     "prev": "c81f8b9b-a6c9-4fce-9443-d2a40d71b610",
     "regions": {
      "9004673b-ca82-497f-a452-d3f258734823": {
       "attrs": {
        "height": 0.8,
        "width": 0.8,
        "x": 0.1,
        "y": 0.1
       },
       "content": {
        "cell": "09f97eff-8cb1-4b37-8c6f-26b186f56436",
        "part": "whole"
       },
       "id": "9004673b-ca82-497f-a452-d3f258734823"
      }
     }
    },
    "3cd53ddd-159a-48e8-bed6-82c379776520": {
     "id": "3cd53ddd-159a-48e8-bed6-82c379776520",
     "prev": "396ef117-777c-4bf8-947f-da3709e4c77b",
     "regions": {
      "f35b9229-daf6-4244-8ae7-848b362b45a7": {
       "attrs": {
        "height": 0.8,
        "width": 0.8,
        "x": 0.1,
        "y": 0.1
       },
       "content": {
        "cell": "ca222205-3810-4575-b8fe-34a5cc049b6d",
        "part": "whole"
       },
       "id": "f35b9229-daf6-4244-8ae7-848b362b45a7"
      }
     }
    },
    "4048da97-9e74-4efa-9a33-616264c3fef5": {
     "id": "4048da97-9e74-4efa-9a33-616264c3fef5",
     "prev": "ea3e5d42-7f6e-48f3-aa45-4e2c8e1c7cb5",
     "regions": {
      "f50d2782-d710-4bb9-88c0-48bf7fb715ea": {
       "attrs": {
        "height": 0.8,
        "width": 0.8,
        "x": 0.1,
        "y": 0.1
       },
       "content": {
        "cell": "8801f4d0-d8fb-4881-a74c-3375cd05ca83",
        "part": "whole"
       },
       "id": "f50d2782-d710-4bb9-88c0-48bf7fb715ea"
      }
     }
    },
    "40b072c2-ad12-49fb-9492-0c3cdbae4db3": {
     "id": "40b072c2-ad12-49fb-9492-0c3cdbae4db3",
     "prev": "ad3f23ae-36f0-40c5-bb1b-3575091ef873",
     "regions": {
      "2d14c041-ad34-4d81-ad59-baa96e98a390": {
       "attrs": {
        "height": 0.8,
        "width": 0.8,
        "x": 0.1,
        "y": 0.1
       },
       "content": {
        "cell": "bbf88800-47e6-4b79-8d70-c0bdc3d71b51",
        "part": "whole"
       },
       "id": "2d14c041-ad34-4d81-ad59-baa96e98a390"
      }
     }
    },
    "4606b64a-e29b-4f11-b8e2-a76e5f77e5fa": {
     "id": "4606b64a-e29b-4f11-b8e2-a76e5f77e5fa",
     "prev": "2eb7e6dc-7f31-48a3-b889-031e254ecd20",
     "regions": {
      "b3fabbfb-dfc8-4b77-a712-599f192a82ab": {
       "attrs": {
        "height": 0.8,
        "width": 0.8,
        "x": 0.1,
        "y": 0.1
       },
       "content": {
        "cell": "82b56ae5-fffe-49f6-9789-b21afb28d561",
        "part": "whole"
       },
       "id": "b3fabbfb-dfc8-4b77-a712-599f192a82ab"
      }
     }
    },
    "4e13f60f-62b8-44a3-859a-5e1f06461d1f": {
     "id": "4e13f60f-62b8-44a3-859a-5e1f06461d1f",
     "prev": "12d37ee3-5e9c-4c28-8942-a23d39c44621",
     "regions": {
      "1b177204-690d-4459-b3c8-b45e18d78aa0": {
       "attrs": {
        "height": 0.8,
        "width": 0.8,
        "x": 0.1,
        "y": 0.1
       },
       "content": {
        "cell": "225eb2f6-10aa-4b3f-b689-07766b4b9e61",
        "part": "whole"
       },
       "id": "1b177204-690d-4459-b3c8-b45e18d78aa0"
      }
     }
    },
    "556d4fb9-3925-4d67-9dab-93ed50427c2a": {
     "id": "556d4fb9-3925-4d67-9dab-93ed50427c2a",
     "prev": "9383c166-91ef-4611-b466-d311bd74da39",
     "regions": {
      "f1b86232-4f1e-4f60-877d-1fb5bdc23957": {
       "attrs": {
        "height": 0.8,
        "width": 0.8,
        "x": 0.1,
        "y": 0.1
       },
       "content": {
        "cell": "c208b8e4-88b9-4f69-89bb-1e004ed91d7a",
        "part": "whole"
       },
       "id": "f1b86232-4f1e-4f60-877d-1fb5bdc23957"
      }
     }
    },
    "563531c6-2835-43ea-b4ff-9b238d6a6637": {
     "id": "563531c6-2835-43ea-b4ff-9b238d6a6637",
     "prev": "f75da93b-55d3-489b-99e9-9a82fef9b416",
     "regions": {
      "cfb95f69-d4b8-4bcb-9e8f-e28d82fb2a24": {
       "attrs": {
        "height": 0.8,
        "width": 0.8,
        "x": 0.1,
        "y": 0.1
       },
       "content": {
        "cell": "ebeb97be-2a21-4659-b8d4-38680f079cf5",
        "part": "whole"
       },
       "id": "cfb95f69-d4b8-4bcb-9e8f-e28d82fb2a24"
      }
     }
    },
    "56e95d6c-f6cb-4362-abbd-ffce72121d96": {
     "id": "56e95d6c-f6cb-4362-abbd-ffce72121d96",
     "prev": "c588559c-1baa-4f01-bf92-51d098672970",
     "regions": {
      "874811f5-2ffb-4df9-994d-be893752139c": {
       "attrs": {
        "height": 0.8,
        "width": 0.8,
        "x": 0.1,
        "y": 0.1
       },
       "content": {
        "cell": "2ef3e4cb-062b-4943-910d-d711f0f02971",
        "part": "whole"
       },
       "id": "874811f5-2ffb-4df9-994d-be893752139c"
      }
     }
    },
    "60c739da-3ce2-4599-b8c9-35d5d40d86f9": {
     "id": "60c739da-3ce2-4599-b8c9-35d5d40d86f9",
     "prev": "85238c99-0b11-4ad0-9879-d4e782f8f4b4",
     "regions": {
      "4f9c4d47-4f78-478d-95b4-fa548dc7ec6d": {
       "attrs": {
        "height": 0.8,
        "width": 0.8,
        "x": 0.1,
        "y": 0.1
       },
       "content": {
        "cell": "74a66a2e-06a4-4fe7-a900-5fff35685906",
        "part": "whole"
       },
       "id": "4f9c4d47-4f78-478d-95b4-fa548dc7ec6d"
      }
     }
    },
    "61c9cb9a-ae1d-4927-b43d-d51fe6f87ef4": {
     "id": "61c9cb9a-ae1d-4927-b43d-d51fe6f87ef4",
     "prev": "b7b07f0a-6029-4f9f-bbc2-88d1674a32fc",
     "regions": {
      "7a2f06e2-bca5-48c4-8ad3-e33179f695d4": {
       "attrs": {
        "height": 0.8,
        "width": 0.8,
        "x": 0.1,
        "y": 0.1
       },
       "content": {
        "cell": "8873a37a-eeef-4110-836d-f675d3382cb3",
        "part": "whole"
       },
       "id": "7a2f06e2-bca5-48c4-8ad3-e33179f695d4"
      }
     }
    },
    "694e6ca6-54bf-4d21-be90-5f7f8da5cd57": {
     "id": "694e6ca6-54bf-4d21-be90-5f7f8da5cd57",
     "prev": "ffe244f6-c4ac-4754-894e-a4bd41639e64",
     "regions": {
      "68728c18-fd5d-4038-9da1-6fccea099c7a": {
       "attrs": {
        "height": 0.8,
        "width": 0.8,
        "x": 0.1,
        "y": 0.1
       },
       "content": {
        "cell": "1aaac73d-752f-4d95-8b84-9b03c4c3fe91",
        "part": "whole"
       },
       "id": "68728c18-fd5d-4038-9da1-6fccea099c7a"
      }
     }
    },
    "6a34cb5e-56fc-4ddd-a770-45ba9828c1dc": {
     "id": "6a34cb5e-56fc-4ddd-a770-45ba9828c1dc",
     "prev": "694e6ca6-54bf-4d21-be90-5f7f8da5cd57",
     "regions": {
      "8f086a7d-dc03-4cee-a4cd-578ae04f0ec3": {
       "attrs": {
        "height": 0.8,
        "width": 0.8,
        "x": 0.1,
        "y": 0.1
       },
       "content": {
        "cell": "a3542dda-8e7d-4e97-9df2-679f084e7a14",
        "part": "whole"
       },
       "id": "8f086a7d-dc03-4cee-a4cd-578ae04f0ec3"
      }
     }
    },
    "75e959b0-0b86-4948-bbc9-7fc578eff666": {
     "id": "75e959b0-0b86-4948-bbc9-7fc578eff666",
     "prev": "fa42e505-5d3e-4037-85d7-4e93aa11b8a7",
     "regions": {
      "2a545aa7-b194-4344-b818-c16ea847ee88": {
       "attrs": {
        "height": 0.8,
        "width": 0.8,
        "x": 0.1,
        "y": 0.1
       },
       "content": {
        "cell": "eba9bb3c-e5af-4898-9e6d-f6f11d685ec7",
        "part": "whole"
       },
       "id": "2a545aa7-b194-4344-b818-c16ea847ee88"
      }
     }
    },
    "7ab20680-f22f-4fed-8c96-7b54485b2baa": {
     "id": "7ab20680-f22f-4fed-8c96-7b54485b2baa",
     "prev": "8309bfa1-3fba-4a75-80eb-f657f9d40257",
     "regions": {
      "f265e7c0-6979-4185-9196-a6d101a5adb1": {
       "attrs": {
        "height": 0.8,
        "width": 0.8,
        "x": 0.1,
        "y": 0.1
       },
       "content": {
        "cell": "3a7e6cc5-3f83-4b3f-8172-a219199981dc",
        "part": "whole"
       },
       "id": "f265e7c0-6979-4185-9196-a6d101a5adb1"
      }
     }
    },
    "8309bfa1-3fba-4a75-80eb-f657f9d40257": {
     "id": "8309bfa1-3fba-4a75-80eb-f657f9d40257",
     "prev": "e1d92b3f-240e-4ffd-ba01-027dff89d239",
     "regions": {
      "14f8aac3-f04d-45e5-b006-817059b1e940": {
       "attrs": {
        "height": 0.8,
        "width": 0.8,
        "x": 0.1,
        "y": 0.1
       },
       "content": {
        "cell": "d128c61d-c2b2-4194-bb29-33a32476bf96",
        "part": "whole"
       },
       "id": "14f8aac3-f04d-45e5-b006-817059b1e940"
      }
     }
    },
    "85238c99-0b11-4ad0-9879-d4e782f8f4b4": {
     "id": "85238c99-0b11-4ad0-9879-d4e782f8f4b4",
     "prev": "339a2f3a-f000-4b9e-8d1f-7f6d9cfd0394",
     "regions": {
      "12faa9d3-9f72-4b39-a8d2-160508ba85e4": {
       "attrs": {
        "height": 0.8,
        "width": 0.8,
        "x": 0.1,
        "y": 0.1
       },
       "content": {
        "cell": "1790413d-1e4a-4103-accf-bd6a740f1d9f",
        "part": "whole"
       },
       "id": "12faa9d3-9f72-4b39-a8d2-160508ba85e4"
      }
     }
    },
    "8c294346-1e7f-4094-bc59-259d4cfc53e4": {
     "id": "8c294346-1e7f-4094-bc59-259d4cfc53e4",
     "prev": "3aa54638-409a-4cef-9072-ddcbba7ad20d",
     "regions": {
      "2d52c10a-d04d-43e6-a64b-381e22a1d7d8": {
       "attrs": {
        "height": 0.8,
        "width": 0.8,
        "x": 0.1,
        "y": 0.1
       },
       "content": {
        "cell": "07aafabf-8875-4ca1-be89-6e6d67861960",
        "part": "whole"
       },
       "id": "2d52c10a-d04d-43e6-a64b-381e22a1d7d8"
      }
     }
    },
    "9383c166-91ef-4611-b466-d311bd74da39": {
     "id": "9383c166-91ef-4611-b466-d311bd74da39",
     "prev": "b178ddab-e972-4338-acd6-2db0fcfd19aa",
     "regions": {
      "45f3cbe6-1e42-49ea-bc28-63d2089c3716": {
       "attrs": {
        "height": 0.8,
        "width": 0.8,
        "x": 0.1,
        "y": 0.1
       },
       "content": {
        "cell": "5483eb8e-2b07-4d51-8e33-88517a8eccad",
        "part": "whole"
       },
       "id": "45f3cbe6-1e42-49ea-bc28-63d2089c3716"
      }
     }
    },
    "97195078-f02c-4c0d-93bb-09e6144e3bb4": {
     "id": "97195078-f02c-4c0d-93bb-09e6144e3bb4",
     "prev": "dc917814-343f-4afa-9a86-4d1030cac764",
     "regions": {
      "2bd35cfc-ae14-4229-b2f5-cb355ec40ddf": {
       "attrs": {
        "height": 0.8,
        "width": 0.8,
        "x": 0.1,
        "y": 0.1
       },
       "content": {
        "cell": "39a8b60a-3391-4ece-a3e5-f5f20a7ab0a2",
        "part": "whole"
       },
       "id": "2bd35cfc-ae14-4229-b2f5-cb355ec40ddf"
      }
     }
    },
    "97b5d4b8-8367-4caf-9c45-59e8d12620dd": {
     "id": "97b5d4b8-8367-4caf-9c45-59e8d12620dd",
     "prev": "8c294346-1e7f-4094-bc59-259d4cfc53e4",
     "regions": {
      "0300f9fc-f44f-4bff-a9d4-2cd199d16a3d": {
       "attrs": {
        "height": 0.8,
        "width": 0.8,
        "x": 0.1,
        "y": 0.1
       },
       "content": {
        "cell": "f78e3875-9dd5-4f3b-86e0-c331b98f9d63",
        "part": "whole"
       },
       "id": "0300f9fc-f44f-4bff-a9d4-2cd199d16a3d"
      }
     }
    },
    "a5c460db-cc52-4ca6-9026-2bb5879edd8f": {
     "id": "a5c460db-cc52-4ca6-9026-2bb5879edd8f",
     "prev": "563531c6-2835-43ea-b4ff-9b238d6a6637",
     "regions": {
      "0b39a95b-62f5-4ac3-be92-b71c231727e8": {
       "attrs": {
        "height": 0.8,
        "width": 0.8,
        "x": 0.1,
        "y": 0.1
       },
       "content": {
        "cell": "f6dd2f92-0720-4e3f-96cf-37cb7e01a571",
        "part": "whole"
       },
       "id": "0b39a95b-62f5-4ac3-be92-b71c231727e8"
      }
     }
    },
    "ad3f23ae-36f0-40c5-bb1b-3575091ef873": {
     "id": "ad3f23ae-36f0-40c5-bb1b-3575091ef873",
     "prev": null,
     "regions": {
      "01054786-efba-403c-8907-d3190dd46f94": {
       "attrs": {
        "height": 0.8,
        "width": 0.8,
        "x": 0.1,
        "y": 0.1
       },
       "content": {
        "cell": "1510d5d9-6e07-4649-8562-7d7e3b14b5b5",
        "part": "whole"
       },
       "id": "01054786-efba-403c-8907-d3190dd46f94"
      }
     }
    },
    "b178ddab-e972-4338-acd6-2db0fcfd19aa": {
     "id": "b178ddab-e972-4338-acd6-2db0fcfd19aa",
     "prev": "d46b44d0-961b-4091-b05f-d51656e1359e",
     "regions": {
      "5d745acd-a166-41f8-ae2a-652df1a1756e": {
       "attrs": {
        "height": 0.8,
        "width": 0.8,
        "x": 0.1,
        "y": 0.1
       },
       "content": {
        "cell": "00a0324e-2455-419e-89d6-4367e2507d7c",
        "part": "whole"
       },
       "id": "5d745acd-a166-41f8-ae2a-652df1a1756e"
      }
     }
    },
    "b7b07f0a-6029-4f9f-bbc2-88d1674a32fc": {
     "id": "b7b07f0a-6029-4f9f-bbc2-88d1674a32fc",
     "prev": "d4ad5cec-fbd4-4ab0-886a-358c038af3f7",
     "regions": {
      "957a52c7-3944-437b-b758-48c845a990e3": {
       "attrs": {
        "height": 0.8,
        "width": 0.8,
        "x": 0.1,
        "y": 0.1
       },
       "content": {
        "cell": "7bdec40d-437b-4e89-9605-653ffde5bf15",
        "part": "whole"
       },
       "id": "957a52c7-3944-437b-b758-48c845a990e3"
      }
     }
    },
    "bcefe411-8843-40eb-a700-202d25f9f3ac": {
     "id": "bcefe411-8843-40eb-a700-202d25f9f3ac",
     "prev": "0d23ba6f-7dcf-4046-8504-74bc5dca6523",
     "regions": {
      "e8ba993a-6d9f-4328-9eaf-adecd97b9336": {
       "attrs": {
        "height": 0.8,
        "width": 0.8,
        "x": 0.1,
        "y": 0.1
       },
       "content": {
        "cell": "39765092-7bec-4078-b518-18876e7751c1",
        "part": "whole"
       },
       "id": "e8ba993a-6d9f-4328-9eaf-adecd97b9336"
      }
     }
    },
    "c39ef34c-cc62-4582-91ff-99720dffa5f5": {
     "id": "c39ef34c-cc62-4582-91ff-99720dffa5f5",
     "prev": "394673a4-5d58-4033-9c89-586f53638022",
     "regions": {
      "931a8ead-a093-4c17-9690-577cd86ca216": {
       "attrs": {
        "height": 0.8,
        "width": 0.8,
        "x": 0.1,
        "y": 0.1
       },
       "content": {
        "cell": "47cb4387-b6d0-41f2-beb8-fe7f1fcbf478",
        "part": "whole"
       },
       "id": "931a8ead-a093-4c17-9690-577cd86ca216"
      }
     }
    },
    "c588559c-1baa-4f01-bf92-51d098672970": {
     "id": "c588559c-1baa-4f01-bf92-51d098672970",
     "prev": "4048da97-9e74-4efa-9a33-616264c3fef5",
     "regions": {
      "93387712-0145-4e24-8695-107c82b9b61e": {
       "attrs": {
        "height": 0.8,
        "width": 0.8,
        "x": 0.1,
        "y": 0.1
       },
       "content": {
        "cell": "ef5f4aa3-bae7-4385-963c-35419b20c37a",
        "part": "whole"
       },
       "id": "93387712-0145-4e24-8695-107c82b9b61e"
      }
     }
    },
    "c81f8b9b-a6c9-4fce-9443-d2a40d71b610": {
     "id": "c81f8b9b-a6c9-4fce-9443-d2a40d71b610",
     "prev": "40b072c2-ad12-49fb-9492-0c3cdbae4db3",
     "regions": {
      "9d6f5f55-1e1b-49dd-aebe-4ab1ed594309": {
       "attrs": {
        "height": 0.8,
        "width": 0.8,
        "x": 0.1,
        "y": 0.1
       },
       "content": {
        "cell": "5d74c69c-3230-4c38-b331-a34556506c08",
        "part": "whole"
       },
       "id": "9d6f5f55-1e1b-49dd-aebe-4ab1ed594309"
      }
     }
    },
    "d46b44d0-961b-4091-b05f-d51656e1359e": {
     "id": "d46b44d0-961b-4091-b05f-d51656e1359e",
     "prev": "75e959b0-0b86-4948-bbc9-7fc578eff666",
     "regions": {
      "0462f4f2-3632-4c18-8471-8c9791d286ae": {
       "attrs": {
        "height": 0.8,
        "width": 0.8,
        "x": 0.1,
        "y": 0.1
       },
       "content": {
        "cell": "cc82e99d-ef9f-4d11-b086-2509ebbc505b",
        "part": "whole"
       },
       "id": "0462f4f2-3632-4c18-8471-8c9791d286ae"
      }
     }
    },
    "d4ad5cec-fbd4-4ab0-886a-358c038af3f7": {
     "id": "d4ad5cec-fbd4-4ab0-886a-358c038af3f7",
     "prev": "56e95d6c-f6cb-4362-abbd-ffce72121d96",
     "regions": {
      "4984b5cf-5963-4083-8226-feea88177128": {
       "attrs": {
        "height": 0.8,
        "width": 0.8,
        "x": 0.1,
        "y": 0.1
       },
       "content": {
        "cell": "54bc2e22-8af3-49ff-a965-6164f1b85a9b",
        "part": "whole"
       },
       "id": "4984b5cf-5963-4083-8226-feea88177128"
      }
     }
    },
    "d62c93d0-6b3b-4a1a-bf1e-c8fa775b1e7f": {
     "id": "d62c93d0-6b3b-4a1a-bf1e-c8fa775b1e7f",
     "prev": "60c739da-3ce2-4599-b8c9-35d5d40d86f9",
     "regions": {
      "5fc8fdd8-121b-432d-aeb7-f64540a63236": {
       "attrs": {
        "height": 0.8,
        "width": 0.8,
        "x": 0.1,
        "y": 0.1
       },
       "content": {
        "cell": "b510326b-998f-4250-8913-8fb5b1bf471d",
        "part": "whole"
       },
       "id": "5fc8fdd8-121b-432d-aeb7-f64540a63236"
      }
     }
    },
    "dc917814-343f-4afa-9a86-4d1030cac764": {
     "id": "dc917814-343f-4afa-9a86-4d1030cac764",
     "prev": "38ff6246-a692-4505-8724-46a32ba6bd83",
     "regions": {
      "a4a72c8b-1f65-43d8-bc27-47ba1e63ed69": {
       "attrs": {
        "height": 0.8,
        "width": 0.8,
        "x": 0.1,
        "y": 0.1
       },
       "content": {
        "cell": "61701d03-7dbb-47b0-9b3f-f7e40747d704",
        "part": "whole"
       },
       "id": "a4a72c8b-1f65-43d8-bc27-47ba1e63ed69"
      }
     }
    },
    "e1d92b3f-240e-4ffd-ba01-027dff89d239": {
     "id": "e1d92b3f-240e-4ffd-ba01-027dff89d239",
     "prev": "6a34cb5e-56fc-4ddd-a770-45ba9828c1dc",
     "regions": {
      "b00a9c4c-0650-4769-a00a-263da9d53280": {
       "attrs": {
        "height": 0.8,
        "width": 0.8,
        "x": 0.1,
        "y": 0.1
       },
       "content": {
        "cell": "84a655f3-4533-46ef-9caa-05d1c350f91a",
        "part": "whole"
       },
       "id": "b00a9c4c-0650-4769-a00a-263da9d53280"
      }
     }
    },
    "ea3e5d42-7f6e-48f3-aa45-4e2c8e1c7cb5": {
     "id": "ea3e5d42-7f6e-48f3-aa45-4e2c8e1c7cb5",
     "prev": "4e13f60f-62b8-44a3-859a-5e1f06461d1f",
     "regions": {
      "35592e86-0fc2-4a1e-ba45-ece013e9e49e": {
       "attrs": {
        "height": 0.8,
        "width": 0.8,
        "x": 0.1,
        "y": 0.1
       },
       "content": {
        "cell": "3c0c94b6-14da-4662-b624-50da9f28debe",
        "part": "whole"
       },
       "id": "35592e86-0fc2-4a1e-ba45-ece013e9e49e"
      }
     }
    },
    "f75da93b-55d3-489b-99e9-9a82fef9b416": {
     "id": "f75da93b-55d3-489b-99e9-9a82fef9b416",
     "prev": "137170c0-bb51-4ae5-bd36-975e29a3a3ca",
     "regions": {
      "93976799-8ac9-4c0f-8a0b-07e358e2add1": {
       "attrs": {
        "height": 0.8,
        "width": 0.8,
        "x": 0.1,
        "y": 0.1
       },
       "content": {
        "cell": "24983319-9650-45c5-b300-a1bdadbd1f14",
        "part": "whole"
       },
       "id": "93976799-8ac9-4c0f-8a0b-07e358e2add1"
      }
     }
    },
    "fa42e505-5d3e-4037-85d7-4e93aa11b8a7": {
     "id": "fa42e505-5d3e-4037-85d7-4e93aa11b8a7",
     "prev": "c39ef34c-cc62-4582-91ff-99720dffa5f5",
     "regions": {
      "889e1715-7830-450d-8fa8-c44bd519f8b3": {
       "attrs": {
        "height": 0.8,
        "width": 0.8,
        "x": 0.1,
        "y": 0.1
       },
       "content": {
        "cell": "ff093b5e-609c-405c-8d61-693cbb4d6a7e",
        "part": "whole"
       },
       "id": "889e1715-7830-450d-8fa8-c44bd519f8b3"
      }
     }
    },
    "ffe244f6-c4ac-4754-894e-a4bd41639e64": {
     "id": "ffe244f6-c4ac-4754-894e-a4bd41639e64",
     "prev": "3762fe55-6a13-43d3-8237-1158d151ae73",
     "regions": {
      "a98fc7c6-bee4-4e14-87d3-5004f8799841": {
       "attrs": {
        "height": 0.8,
        "width": 0.8,
        "x": 0.1,
        "y": 0.1
       },
       "content": {
        "cell": "08c48f75-c7c1-4dc1-99c1-298387e0ab92",
        "part": "whole"
       },
       "id": "a98fc7c6-bee4-4e14-87d3-5004f8799841"
      }
     }
    }
   },
   "themes": {}
  }
 },
 "nbformat": 4,
 "nbformat_minor": 1
}
