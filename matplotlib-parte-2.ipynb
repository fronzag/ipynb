{
 "cells": [
  {
   "cell_type": "markdown",
   "metadata": {},
   "source": [
    "# <span style=\"color:#336699\">SER-347 - Introdução à Programação para Sensoriamento Remoto</span>\n",
    "<hr style=\"border:2px solid #0077b9;\">\n",
    "\n",
    "# <span style=\"color:#336699\">Visualização de Dados em Python com a Matplotlib - Parte II</span>\n",
    "\n",
    "\n",
    "[<img src=\"https://matplotlib.org/_static/logo2.svg\" alt=\"Matplotlib is a library for making 2D plots of arrays in Python\" width=\"300\" align=\"right\">](https://matplotlib.org)\n",
    "\n",
    "\n",
    "- Gilberto Ribeiro de Queiroz\n",
    "- Thales Sehn Körting\n",
    "- Fabiano Morelli\n",
    "<span style=\"color:#336699; font-size:1.5em;\">\n",
    "</span>"
   ]
  },
  {
   "cell_type": "markdown",
   "metadata": {},
   "source": [
    "# 1. Backends e Notebooks Jupyter\n",
    "<hr style=\"border:1px solid #0077b9;\">\n",
    "\n",
    "A Matplotlib foi projetada de maneira a permitir seu uso de diversas maneiras. Na primeira parte dessa aula utilizamos a Matplotlib para produzir desenhos estáticos alinhados na página web do Jupyter Notebook.\n",
    "\n",
    "Outra forma que podemos utilizar a Matplotlb é produzindo figuras com as quais podemos interagir através de recursos como *zoom* e *pan*, mesmo dentro do ambiente Jupyter Notebook.\n",
    "\n",
    "Tambem é muito comum utilizar a Matplotlib para criação de figuras em formatos como PNG, SVG, PDF ou PS, sem nenhuma interatividade, a partir de um script Python. Isso atende tanto a necessidade de quem deseja criar figuras para um artigo de revista quanto para criação de serviços web de visualização de dados.\n",
    "\n",
    "Existem também aplicações que utilizam a Matplotlib integradas ao seu sistema de janelas, sendo capazes de produzir visualizações com alto grau de interatividade com os demais elements gráficos da aplicação, como tabelas e mapas.\n",
    "\n",
    "Para atender a todas essa demandas, a Matplotlib introduz o conceito do que chamamos de *backend*, um componente dedicado à geração da apresentação do resultado de um desenho. Para cada tipo de uso, podemos precisar de um *backend* específico."
   ]
  },
  {
   "cell_type": "markdown",
   "metadata": {},
   "source": [
    "# 2. `inline` backend \n",
    "<hr style=\"border:1px solid #0077b9;\">\n",
    "\n",
    "Para dizer que as figuras geradas pela Matplotlib devem ser incluídas na página HTML de um Jupyer Notebook sem nenhuma interatividade, podemos utilizar o comando mágico `%matplotlib inline` para configurar o uso de um *backend* com essas características. \n",
    "\n",
    "No entanto, essa diretiva precisa ser incluída antes da importação do submódulo `pyplot`, como mostrado abaixo:"
   ]
  },
  {
   "cell_type": "code",
   "execution_count": null,
   "metadata": {},
   "outputs": [],
   "source": [
    "%matplotlib inline\n",
    "import matplotlib.pyplot as plt\n",
    "\n",
    "ano = [ 2008, 2009, 2010, 2011, 2012, 2013, 2014, 2015, 2016, 2017 ]\n",
    "\n",
    "num_focos = [ 123, 123, 249, 133, 194, 115, 183, 236, 188, 260 ]\n",
    "\n",
    "plt.plot(ano, num_focos);"
   ]
  },
  {
   "cell_type": "markdown",
   "metadata": {},
   "source": [
    "# 3. `nbAgg` backend \n",
    "<hr style=\"border:1px solid #0077b9;\">\n",
    "\n",
    "Se você quiser alterar o tipo de *backend*, como por exemplo, para uso do *nbagg*, você irá precisar reinicializar o kernel jupyter associado a seu notebook. Esse processo de reinicialização pode ser feito acessando o menu `Kernel`, opções `Restart` ou `Restart & Clear Output`, na aplicação web jupyter.\n",
    "\n",
    "Lembre-se que ao reinicializar o kernel, todos os objetos definidos anteriormente serão liberados da memória e por isso você poderá precisar executar celulas do seu notebook novamente.\n",
    "\n",
    "Dentro do Jupyter Notebook é mais conveniente usar o *backend* denominado `nbagg` (ou *notebook backend*), que permite que a plotagem dos gráficos, bem como sua interação, seja realizada dentro da prória página do notebook.\n",
    "\n",
    "Reinicialize seu kernel e execute a célula abaixo para testart esse *backend*."
   ]
  },
  {
   "cell_type": "code",
   "execution_count": null,
   "metadata": {},
   "outputs": [],
   "source": [
    "%matplotlib nbagg\n",
    "import matplotlib.pyplot as plt\n",
    "\n",
    "ano = [ 2008, 2009, 2010, 2011, 2012, 2013, 2014, 2015, 2016, 2017 ]\n",
    "\n",
    "num_focos = [ 123, 123, 249, 133, 194, 115, 183, 236, 188, 260 ]\n",
    "\n",
    "plt.plot(ano, num_focos)\n",
    "\n",
    "plt.show()"
   ]
  },
  {
   "cell_type": "markdown",
   "metadata": {},
   "source": [
    "# 4. backends com janelas próprias\n",
    "\n",
    "Outros *backends* poderão fazer com que uma nova janela seja aberta em uma tela separada."
   ]
  },
  {
   "cell_type": "code",
   "execution_count": null,
   "metadata": {},
   "outputs": [],
   "source": [
    "%matplotlib qt\n",
    "import matplotlib.pyplot as plt\n",
    "\n",
    "ano = [ 2008, 2009, 2010, 2011, 2012, 2013, 2014, 2015, 2016, 2017 ]\n",
    "\n",
    "num_focos = [ 123, 123, 249, 133, 194, 115, 183, 236, 188, 260 ]\n",
    "\n",
    "plt.plot(ano, num_focos);"
   ]
  },
  {
   "cell_type": "code",
   "execution_count": null,
   "metadata": {},
   "outputs": [],
   "source": [
    "%matplotlib tk\n",
    "import matplotlib.pyplot as plt\n",
    "\n",
    "ano = [ 2008, 2009, 2010, 2011, 2012, 2013, 2014, 2015, 2016, 2017 ]\n",
    "\n",
    "num_focos = [ 123, 123, 249, 133, 194, 115, 183, 236, 188, 260 ]\n",
    "\n",
    "plt.plot(ano, num_focos);"
   ]
  },
  {
   "cell_type": "markdown",
   "metadata": {},
   "source": [
    "# 5. Listando os backends suportados"
   ]
  },
  {
   "cell_type": "code",
   "execution_count": null,
   "metadata": {},
   "outputs": [],
   "source": [
    "%matplotlib --list"
   ]
  },
  {
   "cell_type": "markdown",
   "metadata": {},
   "source": [
    "# 6. Definindo um backend sem  uso de comandos mágicos"
   ]
  },
  {
   "cell_type": "code",
   "execution_count": null,
   "metadata": {},
   "outputs": [],
   "source": [
    "import matplotlib as mpl\n",
    "mpl.use(\"nbagg\")"
   ]
  },
  {
   "cell_type": "markdown",
   "metadata": {},
   "source": [
    "ou:"
   ]
  },
  {
   "cell_type": "code",
   "execution_count": null,
   "metadata": {},
   "outputs": [],
   "source": [
    "import matplotlib as mpl\n",
    "mpl.use(\"webagg\")"
   ]
  },
  {
   "cell_type": "markdown",
   "metadata": {},
   "source": [
    "Da mesma forma que o comando mágico `%matplotlib nbagg` ou `%matplotlib inline`, a instrução acima deve ser executada antes da importação de qualquer outra funcionalidade da Matplotlib, caso contrário, um *backend* padrão será definido."
   ]
  },
  {
   "cell_type": "markdown",
   "metadata": {},
   "source": [
    "# Referências Bibliográficas\n",
    "<hr style=\"border:1px solid #0077b9;\">\n",
    "\n",
    "- [What is a backend?](https://matplotlib.org/faq/usage_faq.html#what-is-a-backend). Acesso: 10 de Abril de 2018.<br><br>\n",
    "\n",
    "- [The nbagg backend](https://matplotlib.org/users/prev_whats_new/whats_new_1.4.html#the-nbagg-backend). Data Acesso: 10 de Abril de 2018."
   ]
  }
 ],
 "metadata": {
  "kernelspec": {
   "display_name": "Python 3",
   "language": "python",
   "name": "python3"
  },
  "language_info": {
   "codemirror_mode": {
    "name": "ipython",
    "version": 3
   },
   "file_extension": ".py",
   "mimetype": "text/x-python",
   "name": "python",
   "nbconvert_exporter": "python",
   "pygments_lexer": "ipython3",
   "version": "3.7.4"
  },
  "toc": {
   "base_numbering": 1,
   "nav_menu": {},
   "number_sections": false,
   "sideBar": true,
   "skip_h1_title": false,
   "title_cell": "Table of Contents",
   "title_sidebar": "Contents",
   "toc_cell": false,
   "toc_position": {},
   "toc_section_display": true,
   "toc_window_display": false
  }
 },
 "nbformat": 4,
 "nbformat_minor": 2
}
