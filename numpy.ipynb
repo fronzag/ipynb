{
 "cells": [
  {
   "cell_type": "markdown",
   "metadata": {},
   "source": [
    "# <span style=\"color:#336699\">SER-347 - Introdução à Programação para Sensoriamento Remoto</span>\n",
    "<hr style=\"border:2px solid #0077b9;\">\n",
    "\n",
    "# <span style=\"color:#336699\">NumPy</span>\n",
    "\n",
    "[<img src=\"https://numpy.org/_static/numpy_logo.png\" alt=\"NumPy\" style=\"height: 75px;\" align=\"right\">](http://numpy.org)\n",
    "\n",
    "Professores:\n",
    "- Thales Sehn Körting\n",
    "- Gilberto Ribeiro de Queiroz"
   ]
  },
  {
   "cell_type": "markdown",
   "metadata": {},
   "source": [
    "## O básico sobre NumPy"
   ]
  },
  {
   "cell_type": "markdown",
   "metadata": {},
   "source": [
    "O principal objeto manipulado pela NumPy é o _homogeneous multidimensional array_\n",
    "\n",
    "* Uma tabela de elementos de mesmo tipo (em geral números) indexados por uma tupla de inteiros positivos\n",
    "* As dimensões são chamadas de _axes_\n",
    "* O número de axes é chamado de _rank_\n",
    "\n",
    "Exemplos:\n",
    "\n",
    "``[1, 2, 1]`` → ``rank = 1``\n",
    "\n",
    "``[[ 1.0, 0.0, 0.0], [0.0, 1.0, 2.0]]`` → ``rank = 2``, a primeira dimensão tem tamanho 2, a segunda dimensão tem tamanho 3"
   ]
  },
  {
   "cell_type": "markdown",
   "metadata": {},
   "source": [
    "A classe de array do NumPy é chamada ``ndarray (numpy.array)``\n",
    "\n",
    "Supondo um ndarray contendo uma matriz de 30 linhas e 40 colunas:\n",
    "* ``ndarray.ndim`` é o número de axes da array\n",
    "* ``ndarray.shape`` é uma tupla de inteiros indicando o tamanho da array em cada dimensão (no exemplo acima, shape → 30, 40)\n",
    "* ``ndarray.size`` é o total de elementos no array (no exemplo acima, size → 1200)\n",
    "* ``ndarray.dtype`` é um objeto descrevendo o tipo dos elementos no array (por exemplo, numpy.int32, numpy.int16, numpy.float64)\n",
    "* ``ndarray.itemsize`` é o tamanho em bytes de cada elemento no array (por exemplo, em um array de float64 itemsize → 8)\n",
    "* ``ndarray.data`` é um buffer contendo os elementos do array, geralmente não é usado dessa forma pois temos facilidades de indexação"
   ]
  },
  {
   "cell_type": "markdown",
   "metadata": {},
   "source": [
    "## Utilizando NumPy"
   ]
  },
  {
   "cell_type": "code",
   "execution_count": null,
   "metadata": {},
   "outputs": [],
   "source": [
    "# para utilizar a biblioteca numpy, fazemos sua importação\n",
    "# a parte 'as np' informa um 'apelido' para a biblioteca, a ser usado no script\n",
    "import numpy as np\n",
    "\n",
    "# arange retorna um array([ 0,  1,  2,  3,  4,  5,  6,  7,  8,  9, 10, 11, 12, 13, 14])\n",
    "# reshape altera as dimensões do array\n",
    "a = np.arange(15).reshape(3, 5)\n",
    "\n",
    "# criando um array a partir de uma lista\n",
    "b = np.array([6, 7, 8])\n",
    "\n",
    "print(\"array a:\\n\", a)\n",
    "print(\"array b:\\n\", b)"
   ]
  },
  {
   "cell_type": "code",
   "execution_count": null,
   "metadata": {},
   "outputs": [],
   "source": [
    "a.shape"
   ]
  },
  {
   "cell_type": "code",
   "execution_count": null,
   "metadata": {},
   "outputs": [],
   "source": [
    "a.ndim"
   ]
  },
  {
   "cell_type": "code",
   "execution_count": null,
   "metadata": {},
   "outputs": [],
   "source": [
    "a.dtype"
   ]
  },
  {
   "cell_type": "code",
   "execution_count": null,
   "metadata": {},
   "outputs": [],
   "source": [
    "a.itemsize"
   ]
  },
  {
   "cell_type": "code",
   "execution_count": null,
   "metadata": {},
   "outputs": [],
   "source": [
    "a.size"
   ]
  },
  {
   "cell_type": "code",
   "execution_count": null,
   "metadata": {},
   "outputs": [],
   "source": [
    "type(a)"
   ]
  },
  {
   "cell_type": "code",
   "execution_count": null,
   "metadata": {},
   "outputs": [],
   "source": [
    "type(b)"
   ]
  },
  {
   "cell_type": "markdown",
   "metadata": {},
   "source": [
    "As funções ``zeros/ones`` criam arrays contendo zeros/uns, de acordo com a quantidade de elementos solicitada"
   ]
  },
  {
   "cell_type": "code",
   "execution_count": null,
   "metadata": {},
   "outputs": [],
   "source": [
    "print(np.zeros((3,4)))\n",
    "print(np.ones((2,3)))"
   ]
  },
  {
   "cell_type": "markdown",
   "metadata": {},
   "source": [
    "A função ``arange`` cria números em sequência\n",
    "\n",
    "Por exemplo:\n",
    "* gerar números entre [10, 300)\n",
    "* pulando de 5 em 5"
   ]
  },
  {
   "cell_type": "code",
   "execution_count": null,
   "metadata": {},
   "outputs": [],
   "source": [
    "print(np.arange(10, 300, 5))"
   ]
  },
  {
   "cell_type": "markdown",
   "metadata": {},
   "source": [
    "Outro exemplo:\n",
    "* gerar números entre [0, 50)\n",
    "* pulando de 0.3 em 0.3"
   ]
  },
  {
   "cell_type": "code",
   "execution_count": null,
   "metadata": {},
   "outputs": [],
   "source": [
    "print(np.arange(0, 50, 0.3))"
   ]
  },
  {
   "cell_type": "markdown",
   "metadata": {},
   "source": [
    "A função ``linspace`` gera um intervalo de números com um tamanho específico\n",
    "\n",
    "Por exemplo:\n",
    "* gerar números entre [0, 2]\n",
    "* tamanho 80 elementos"
   ]
  },
  {
   "cell_type": "code",
   "execution_count": null,
   "metadata": {},
   "outputs": [],
   "source": [
    "exemplo = np.linspace(0, 2, 80)\n",
    "print(exemplo)\n",
    "print(\"número de elementos:\", len(exemplo))"
   ]
  },
  {
   "cell_type": "markdown",
   "metadata": {},
   "source": [
    "Outro exemplo:\n",
    "* gerar 30 números entre [0, 2$\\pi$]\n",
    "* calcular o seno de todos os números"
   ]
  },
  {
   "cell_type": "code",
   "execution_count": null,
   "metadata": {},
   "outputs": [],
   "source": [
    "from numpy import pi\n",
    "x = np.linspace(0, 2*pi, 30)\n",
    "print(x)\n",
    "print(np.sin(x))"
   ]
  },
  {
   "cell_type": "markdown",
   "metadata": {},
   "source": [
    "## Funções matemáticas"
   ]
  },
  {
   "cell_type": "markdown",
   "metadata": {},
   "source": [
    "### Operações básicas com arrays"
   ]
  },
  {
   "cell_type": "markdown",
   "metadata": {},
   "source": [
    "Operações aritméticas se aplicam em cada elemento do array, gerando um novo array de resultado"
   ]
  },
  {
   "cell_type": "code",
   "execution_count": null,
   "metadata": {},
   "outputs": [],
   "source": [
    "a = np.array( [20,30,40,50] )\n",
    "b = np.arange( 4 )\n",
    "print(\"array a:\\n\", a)\n",
    "print(\"array b:\\n\", b)\n",
    "c = a - b\n",
    "print(\"array c:\\n\", c)"
   ]
  },
  {
   "cell_type": "code",
   "execution_count": null,
   "metadata": {},
   "outputs": [],
   "source": [
    "print(\"cálculo complexo com todos os elementos de a:\\n\", 10 * np.sin(a))\n",
    "print(\"array b, ao quadrado:\\n\", b**2)\n",
    "print(\"consulta de elementos de a menores que o valor 35:\\n\", a < 35)"
   ]
  },
  {
   "cell_type": "markdown",
   "metadata": {},
   "source": [
    "O operador ``*`` calcula o produto por elemento, e não por matriz (para isso usa-se a função ``dot``)"
   ]
  },
  {
   "cell_type": "code",
   "execution_count": null,
   "metadata": {},
   "outputs": [],
   "source": [
    "A = np.array( [[1,1],\n",
    "               [0,1]] )\n",
    "B = np.array( [[2,0],\n",
    "               [3,4]] )\n",
    "print(\"A*B:\\n\", A*B) \n",
    "print(\"A.dot(B):\\n\", A.dot(B))"
   ]
  },
  {
   "cell_type": "markdown",
   "metadata": {},
   "source": [
    "Operações como ``+=`` e ``*=`` modificam a própria matriz"
   ]
  },
  {
   "cell_type": "code",
   "execution_count": null,
   "metadata": {},
   "outputs": [],
   "source": [
    "a = np.ones((2,3))\n",
    "a *= 3 # é o mesmo que a = a * 3\n",
    "print(\"a:\\n\", a)\n",
    "\n",
    "b = np.random.random((2,3))\n",
    "print(\"b:\\n\", b)\n",
    "b += a # é o mesmo que b = b + a\n",
    "print(\"b, após somar com a:\\n\", b)"
   ]
  },
  {
   "cell_type": "markdown",
   "metadata": {},
   "source": [
    "As funções ``sum``, ``min`` e ``max`` funcionam para ndarrays"
   ]
  },
  {
   "cell_type": "code",
   "execution_count": null,
   "metadata": {},
   "outputs": [],
   "source": [
    "a = np.random.random((2,3))\n",
    "print(\"a:\\n\", a)\n",
    "print(\"a.sum():\\n\", a.sum())\n",
    "print(\"a.min():\\n\", a.min())\n",
    "print(\"a.max():\\n\", a.max())"
   ]
  },
  {
   "cell_type": "markdown",
   "metadata": {},
   "source": [
    "Muitas funções podem operar sobre eixos específicos"
   ]
  },
  {
   "cell_type": "code",
   "execution_count": null,
   "metadata": {},
   "outputs": [],
   "source": [
    "b = np.arange(12).reshape(3,4)\n",
    "print(\"b:\\n\", b)\n",
    "\n",
    "print(\"maior elemento, axis = 0:\\n\", b.max(axis=0))\n",
    "print(\"menor elemento, axis = 1:\\n\", b.min(axis=1))\n",
    "print(\"soma cumulativa, axis = 1:\\n\", b.cumsum(axis=1))"
   ]
  },
  {
   "cell_type": "markdown",
   "metadata": {},
   "source": [
    "Exemplos de funções que se aplicam a cada elemento de um ndarray\n"
   ]
  },
  {
   "cell_type": "code",
   "execution_count": null,
   "metadata": {},
   "outputs": [],
   "source": [
    "B = np.arange(3)\n",
    "print(\"B:\\n\", B)\n",
    "\n",
    "print(\"np.exp(B):\\n\", np.exp(B))\n",
    "print(\"np.sqrt(B):\\n\", np.sqrt(B))"
   ]
  },
  {
   "cell_type": "markdown",
   "metadata": {},
   "source": [
    "Para acessar os elementos do array, usamos um índice para cada eixo"
   ]
  },
  {
   "cell_type": "code",
   "execution_count": null,
   "metadata": {},
   "outputs": [],
   "source": [
    "b = np.arange(12).reshape(3,4)\n",
    "print(\"array b:\\n\", b)\n",
    "print(\"array na posição [1,2]:\\n\", b[1,2])"
   ]
  },
  {
   "cell_type": "markdown",
   "metadata": {},
   "source": [
    "Tentativa de acessar elementos fora dos limites"
   ]
  },
  {
   "cell_type": "code",
   "execution_count": null,
   "metadata": {},
   "outputs": [],
   "source": [
    "print(\"limites do array b:\\n\", b.shape)\n",
    "print(\"array na posição [3,4]:\\n\", b[3,4])"
   ]
  },
  {
   "cell_type": "markdown",
   "metadata": {},
   "source": [
    "É possível acessar elementos utilizando índices negativos (neste caso o índice começa com -1)"
   ]
  },
  {
   "cell_type": "code",
   "execution_count": null,
   "metadata": {},
   "outputs": [],
   "source": [
    "print(\"array b:\\n\", b)\n",
    "print(\"array b, acessando a última linha:\\n\", b[-1])\n",
    "print(\"array b, acessando a primeira linha:\\n\", b[-3])"
   ]
  },
  {
   "cell_type": "markdown",
   "metadata": {},
   "source": [
    "### Números aleatórios"
   ]
  },
  {
   "cell_type": "markdown",
   "metadata": {},
   "source": [
    "NumPy oferece uma série de funções para geração de números aleatórios\n",
    "* `rand(d0, d1, ..., dn)` _Random values in a given shape._\n",
    "* `randn(d0, d1, ..., dn)` _Return a sample (or samples) from the “standard normal” distribution._\n",
    "* `randint(low[, high, size, dtype])` _Return random integers from low (inclusive) to high (exclusive)._\n",
    "* `random([size])`_Return random floats in the half-open interval [0.0, 1.0)._"
   ]
  },
  {
   "cell_type": "markdown",
   "metadata": {},
   "source": [
    "Exemplo:"
   ]
  },
  {
   "cell_type": "code",
   "execution_count": null,
   "metadata": {},
   "outputs": [],
   "source": [
    "# para utilizar a biblioteca matplotlib, fazemos sua importação\n",
    "# a parte 'as plt' informa um 'apelido' para a biblioteca, a ser usado no script\n",
    "import matplotlib.pyplot as plt\n",
    "\n",
    "# criação de conjuntos de pontos aleatórios (150 e 200 pontos 2D)\n",
    "azuis = np.random.random(size=(2,150))\n",
    "verdes = np.random.random(size=(2,200)) + 0.5\n",
    "\n",
    "# gráfico 2D\n",
    "plt.figure()\n",
    "plt.scatter(azuis[0], azuis[1], c = 'blue')\n",
    "plt.scatter(verdes[0], verdes[1], c = 'green')\n",
    "plt.show()"
   ]
  },
  {
   "cell_type": "markdown",
   "metadata": {},
   "source": [
    "### Hands on"
   ]
  },
  {
   "cell_type": "markdown",
   "metadata": {},
   "source": [
    "* _gain_ é um número real que é multiplicado por todos os pixels de uma banda\n",
    "* _offset_ é um número real que é somado a todos os pixels de uma banda\n",
    "\n",
    "Suponha uma banda de uma imagem armazenada em uma matriz de 100 linhas e 200 colunas (com números aleatórios inteiros entre 0 e 100)"
   ]
  },
  {
   "cell_type": "code",
   "execution_count": null,
   "metadata": {},
   "outputs": [],
   "source": [
    "banda = np.random.randint(0, 101, [100, 200])\n",
    "\n",
    "# utilizamos matplotlib para visualizar imagens\n",
    "plt.imshow(banda, cmap='gray', vmin=0, vmax=255)\n",
    "plt.show()"
   ]
  },
  {
   "cell_type": "code",
   "execution_count": null,
   "metadata": {},
   "outputs": [],
   "source": [
    "# experimentando gain para melhorar a visualização da banda\n",
    "gain = 3\n",
    "# aplicar o gain\n",
    "banda_com_gain = banda * gain\n",
    "\n",
    "# visualizar imagem\n",
    "plt.imshow(banda_com_gain, cmap='gray', vmin=0, vmax=255)\n",
    "plt.show()"
   ]
  },
  {
   "cell_type": "code",
   "execution_count": null,
   "metadata": {},
   "outputs": [],
   "source": [
    "# experimentando offset para melhorar a visualização da banda\n",
    "offset = 200\n",
    "# aplicar o offset\n",
    "banda_com_offset = banda + offset\n",
    "print(banda_com_offset.min())\n",
    "\n",
    "# visualizar imagem\n",
    "plt.imshow(banda_com_offset, cmap='gray', vmin=0, vmax=255)\n",
    "plt.show()"
   ]
  },
  {
   "cell_type": "markdown",
   "metadata": {},
   "source": [
    "Em alguns casos, se o resultado ultrapassar o range de uma imagem de 8 bits (entre 0 e 255), force para ficar dentro do range, por exemplo:\n",
    "* -50 → 0\n",
    "* 270 → 255"
   ]
  },
  {
   "cell_type": "code",
   "execution_count": null,
   "metadata": {},
   "outputs": [],
   "source": [
    "banda_com_gain[banda_com_gain > 255] = 255\n",
    "banda_com_gain[banda_com_gain < 0] = 0\n",
    "\n",
    "banda_com_offset[banda_com_offset > 255] = 255\n",
    "banda_com_offset[banda_com_offset < 0] = 0\n",
    "\n",
    "# apresentar os resultados\n",
    "print(\"banda original\")\n",
    "plt.imshow(banda, cmap='gray', vmin=0, vmax=255)\n",
    "plt.show()\n",
    "print(\"banda_com_gain\")\n",
    "plt.imshow(banda_com_gain, cmap='gray', vmin=0, vmax=255)\n",
    "plt.show()\n",
    "print(\"banda_com_offset\")\n",
    "plt.imshow(banda_com_offset, cmap='gray', vmin=0, vmax=255)\n",
    "plt.show()"
   ]
  },
  {
   "cell_type": "markdown",
   "metadata": {},
   "source": [
    "Dadas as seguintes séries temporais\n",
    "* $s_1$ → 168, 398, 451, 337, 186, 232, 262, 349, 189, 204, 220, 220, 207, 239, 259, 258, 242, 331, 251, 323, 106, 1055, 170\n",
    "* $s_2$ → 168, 400, 451, 300, 186, 200, 262, 349, 189, 204, 220, 220, 207, 239, 259, 258, 242, 331, 251, 180, 106, 1055, 200\n",
    "\n",
    "Utilize funções NumPy para calcular a distância euclidiana entre as séries\n",
    "\n",
    "Como decompor o cálculo da distância euclidiana em passos?\n",
    "\n",
    "$d(s_1, s_2) = \\sqrt{\\sum_{i=0}^{N-1}(s_{2_i} - s_{1_i})^2}$\n",
    "\n",
    "Podemos inicialmente subtrair todos os termos\n",
    "\n",
    "$\\text{subtracao} = [s_2 - s_1]$\n",
    "\n",
    "Depois fazemos o produto de cada elemento por si mesmo (quadrado)\n",
    "\n",
    "$\\text{quadrado} = \\text{subtracao} * \\text{subtracao}$\n",
    "\n",
    "Por fim, fazemos calcular a raiz\n",
    "\n",
    "$d(s_1, s_2) = \\sqrt{\\text{quadrado}}$"
   ]
  },
  {
   "cell_type": "code",
   "execution_count": null,
   "metadata": {},
   "outputs": [],
   "source": [
    "# definir as series\n",
    "s_1 = np.array((168, 398, 451, 337, 186, 232, 262, 349, 189, 204, 220, 220, 207, 239, 259, 258, 242, 331, 251, 323, 106, 1055, 170))\n",
    "s_2 = np.array((168, 400, 451, 300, 186, 200, 262, 349, 189, 204, 220, 220, 207, 239, 259, 258, 242, 331, 251, 180, 106, 1055, 200))\n",
    "\n",
    "# aplicar o calculo \n",
    "subtracao = s_1 - s_2\n",
    "print(\"subtração:\\n\", subtracao)\n",
    "quadrado = subtracao * subtracao\n",
    "print(\"quadrado:\\n\", quadrado)\n",
    "somatorio = np.sum(quadrado)\n",
    "print(\"somatorio:\\n\", somatorio)\n",
    "distancia = np.sqrt(somatorio)\n",
    "print(\"distância:\\n\", distancia)\n",
    "\n",
    "# podemos utilizar o módulo de álgebra linear que\n",
    "distancia2 = np.linalg.norm(s_1 - s_2)\n",
    "print(\"distância 2:\\n\", distancia2)"
   ]
  },
  {
   "cell_type": "markdown",
   "metadata": {},
   "source": [
    "## Referência\n",
    "\n",
    "[NumPy](https://numpy.org/). Acesso: Abril, 2020. "
   ]
  }
 ],
 "metadata": {
  "kernelspec": {
   "display_name": "Python 3",
   "language": "python",
   "name": "python3"
  },
  "language_info": {
   "codemirror_mode": {
    "name": "ipython",
    "version": 3
   },
   "file_extension": ".py",
   "mimetype": "text/x-python",
   "name": "python",
   "nbconvert_exporter": "python",
   "pygments_lexer": "ipython3",
   "version": "3.7.4"
  }
 },
 "nbformat": 4,
 "nbformat_minor": 2
}
