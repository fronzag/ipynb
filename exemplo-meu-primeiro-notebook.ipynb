{
 "cells": [
  {
   "cell_type": "markdown",
   "metadata": {},
   "source": [
    "Esta célula é do tipo **`Markdown`**, o que significa que ela contém textos que poderão ser traduzidos para HTML.\n",
    "\n",
    "A sintaxe Markdown é muito simples de aprender. Consulte o [Markdown Cheatsheet](https://github.com/adam-p/markdown-here/wiki/Markdown-Cheatsheet) para aprender rapidamente a formatar textos com essa sintaxe."
   ]
  },
  {
   "cell_type": "code",
   "execution_count": 1,
   "metadata": {},
   "outputs": [
    {
     "name": "stdout",
     "output_type": "stream",
     "text": [
      "Lista = [1, 4, 9, 16, 25, 36, 49, 64, 81, 100]\n",
      "Soma: 385\n"
     ]
    }
   ],
   "source": [
    "#\n",
    "# Esta célula é do tipo \"código\", \n",
    "# logo você pode escrever qualquer código Python válido!\n",
    "#\n",
    "# Para executar essa célula, tecle SHIFT+ENTER\n",
    "#\n",
    "\n",
    "lista_quadrados = [ x**2 for x in range( 1, 11 ) ]\n",
    "\n",
    "soma_quadrados = sum( lista_quadrados )\n",
    "\n",
    "print( \"Lista =\", lista_quadrados )\n",
    "\n",
    "print( \"Soma:\", soma_quadrados )"
   ]
  },
  {
   "cell_type": "markdown",
   "metadata": {},
   "source": [
    "Em Markdown, usamos um caracter `#` para indicar um texto de cabeçalho de nível 1, dois `##` para o nível 2 e assim por diante:\n",
    "\n",
    "# Título Nível 1\n",
    "\n",
    "## Título Nível 2\n",
    "\n",
    "### Título Nível 3\n",
    "\n",
    "#### Título Nível 4"
   ]
  },
  {
   "cell_type": "markdown",
   "metadata": {},
   "source": [
    "Em Markdown um link pode ser criado com a seguinte sintaxe:\n",
    "`[SER-347](http://ser347.dpi.inpe.br)`\n",
    "\n",
    "Veja o exemplo desse link: [SER-347](http://ser347.dpi.inpe.br)."
   ]
  },
  {
   "cell_type": "markdown",
   "metadata": {},
   "source": [
    "Podemos incluir fórmulas em LaTeX, como a fórmula da distância de Haversine abaixo:\n",
    "$$d(p, q) = 2r \\arcsin{\\sqrt{\\sin^2({\\frac{\\phi_2 - \\phi_1}{2}}) + \\cos{\\phi_1} \\cos{\\phi_2} \\sin^2({\\frac{\\lambda_2 - \\lambda_1}{2}})}}$$"
   ]
  },
  {
   "cell_type": "markdown",
   "metadata": {},
   "source": [
    "Podemos incluir tabelas em HTML:\n",
    "<table style=\"width: 50%; margin: 0; padding: 0; border: 0;\">\n",
    "    <caption>Tabela 1 - Uma tabela usando HTML.</caption>\n",
    "    <tr>\n",
    "        <th style=\"text-align: center; border: 1px solid black\">Coluna 1</th>\n",
    "        <th style=\"text-align: center; border: 1px solid black\">Coluna 2</th>\n",
    "    </tr>\n",
    "    <tr>\n",
    "        <td style=\"text-align: center; border: 1px solid black\">Linha 1 Coluna 1</td>\n",
    "        <td style=\"text-align: center; border: 1px solid black\">Linha 1 Coluna 2</td>\n",
    "    </tr>\n",
    "    <tr>\n",
    "        <td style=\"text-align: center; border: 1px solid black\">Linha 2 Coluna 1</td>\n",
    "        <td style=\"text-align: center; border: 1px solid black\">Linha 2 Coluna 2</td>\n",
    "    </tr>\n",
    "    <tr>\n",
    "        <td style=\"text-align: center; border: 1px solid black\">Linha 3 Coluna 1</td>\n",
    "        <td style=\"text-align: center; border: 1px solid black\">Linha 3 Coluna 2</td>\n",
    "    </tr>\n",
    "</table>"
   ]
  },
  {
   "cell_type": "markdown",
   "metadata": {},
   "source": [
    "Através do comando mágico de célula `%%HTML`, podemos incluir um vídeo do Youtube:"
   ]
  },
  {
   "cell_type": "code",
   "execution_count": 2,
   "metadata": {},
   "outputs": [
    {
     "data": {
      "text/html": [
       "\n",
       "<iframe width=\"640\" height=\"480\" src=\"https://www.youtube.com/embed/1NxnPkZM9bc\" frameborder=\"0\" allowfullscreen></iframe>"
      ],
      "text/plain": [
       "<IPython.core.display.HTML object>"
      ]
     },
     "metadata": {},
     "output_type": "display_data"
    }
   ],
   "source": [
    "%%HTML\n",
    "\n",
    "<iframe width=\"640\" height=\"480\" src=\"https://www.youtube.com/embed/1NxnPkZM9bc\" frameborder=\"0\" allowfullscreen></iframe>"
   ]
  },
  {
   "cell_type": "code",
   "execution_count": null,
   "metadata": {},
   "outputs": [],
   "source": []
  }
 ],
 "metadata": {
  "kernelspec": {
   "display_name": "Python 3",
   "language": "python",
   "name": "python3"
  },
  "language_info": {
   "codemirror_mode": {
    "name": "ipython",
    "version": 3
   },
   "file_extension": ".py",
   "mimetype": "text/x-python",
   "name": "python",
   "nbconvert_exporter": "python",
   "pygments_lexer": "ipython3",
   "version": "3.7.4"
  },
  "toc": {
   "base_numbering": 1,
   "nav_menu": {},
   "number_sections": false,
   "sideBar": true,
   "skip_h1_title": false,
   "title_cell": "Table of Contents",
   "title_sidebar": "Contents",
   "toc_cell": false,
   "toc_position": {},
   "toc_section_display": true,
   "toc_window_display": false
  }
 },
 "nbformat": 4,
 "nbformat_minor": 2
}
