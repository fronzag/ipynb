{
 "cells": [
  {
   "cell_type": "markdown",
   "metadata": {},
   "source": [
    "# <span style=\"color:#336699\">SER-347 - Introdução à Programação para Sensoriamento Remoto</span>\n",
    "<hr style=\"border:2px solid #0077b9;\">\n",
    "\n",
    "# <span style=\"color:#336699\">Jupyter Notebook - Exemplos</span>\n",
    "\n",
    "[<img src=\"http://jupyter.org/assets/nav_logo.svg\" alt=\"Project Jupyter\" style=\"height: 75px;\" align=\"right\">](http://jupyter.org)\n",
    "\n",
    "Professores:\n",
    "- Gilberto Ribeiro de Queiroz\n",
    "- Thales Sehn Körting"
   ]
  },
  {
   "cell_type": "markdown",
   "metadata": {},
   "source": [
    "**Exemplo 1.** A fórmula de Haversine possbilita o cálculo de distâncias entre dois pontos em uma esfera a partir de suas latitudes e longitudes. Dada a seguinte fórmula:\n",
    "\n",
    "$$\n",
    "d = 2r \\arcsin{\\sqrt{sin^2({\\frac{\\phi_2 - \\phi_1}{2}}) + \\cos{\\phi_1} \\cos{\\phi_2} \\sin^2({\\frac{\\lambda_2 - \\lambda_1}{2}})}}\n",
    "$$\n",
    "\n",
    "onde:\n",
    "- $d$: distância entre dois pontos na esfera.\n",
    "- $r$: é o raio da esfera (~6371km).\n",
    "- $\\phi_1$ e $\\phi_2$: latitude dos pontos em radianos.\n",
    "- $\\lambda_1$ e $\\lambda_2$: longitude dos pontos em radianos.\n",
    "\n",
    "Construa uma função chamada `DistanciaHaversine` que receba quatro valores de entrada representando duas localizações quaisquer em grau-decimal e que retorne um único valor com a distância em `km`. Para maiores detalhes sobre essa fórmua, veja a [Wikipedia](https://en.wikipedia.org/wiki/Haversine_formula).\n",
    "\n",
    "**Solução:**"
   ]
  },
  {
   "cell_type": "code",
   "execution_count": null,
   "metadata": {},
   "outputs": [],
   "source": [
    "%load exemplos/haversine.py"
   ]
  },
  {
   "cell_type": "markdown",
   "metadata": {},
   "source": [
    "No trecho de código acima, demos o nome de `DistanciaHaversive` para a função, que foi definida com quatro parâmetros formais:\n",
    "- `lat1`: latitude do ponto 1 em graus decimal.\n",
    "- `long1`: longitude do ponto 1 em graus decimal.\n",
    "- `lat2`: latitude do ponto 2 em graus decimal.\n",
    "- `long2`: longitude do ponto 2 em graus decimal.\n",
    "\n",
    "Podemos computar a distância entre São José dos Campos (SP) e Ouro Preto (MG) da seguinte forma:"
   ]
  },
  {
   "cell_type": "code",
   "execution_count": null,
   "metadata": {},
   "outputs": [],
   "source": [
    "d = DistanciaHaversive(-23.17, -45.88, -20.38, -43.50)\n",
    "\n",
    "\n",
    "print(\"Distância: {0:.3f}km\".format(d))"
   ]
  },
  {
   "cell_type": "markdown",
   "metadata": {},
   "source": [
    "**Exemplo 2.** Em Python, existem diversos pacotes para visualização de dados. A [Matplotlib](https://matplotlib.org) é uma das bibliotecas Python mais poderosas para essa finalidade. Trata-se de uma biblioteca multiplataforma (*cross-platform*), capaz de construir visualizações de alta qualidade gráfica, inclusive para inclusão em artigos científicos, e pode ser usada de diversas formas.\n",
    "\n",
    "A Matplotlib também é chamada abreviadamente de `mpl`, sendo seu código fonte disponível no [GitHub](https://github.com/matplotlib/matplotlib). A página oficial do projeto encontra-se no endereço https://matplotlib.org, onde é possível encontrar uma ampla documentação, além de uma [grande galeria de visualizações](https://matplotlib.org/gallery/index.html) produzidas com a `mpl` que podem servir de base para a construção de novas visualizações.\n",
    "\n",
    "O trecho de código abaixo apresenta uma senoide criada através da operação `plot` sobre um objeto `Axes`:"
   ]
  },
  {
   "cell_type": "code",
   "execution_count": null,
   "metadata": {},
   "outputs": [],
   "source": [
    "%load exemplos/matplotlib-senoide.py"
   ]
  }
 ],
 "metadata": {
  "kernelspec": {
   "display_name": "Python 3",
   "language": "python",
   "name": "python3"
  },
  "language_info": {
   "codemirror_mode": {
    "name": "ipython",
    "version": 3
   },
   "file_extension": ".py",
   "mimetype": "text/x-python",
   "name": "python",
   "nbconvert_exporter": "python",
   "pygments_lexer": "ipython3",
   "version": "3.7.4"
  },
  "toc": {
   "base_numbering": 1,
   "nav_menu": {},
   "number_sections": false,
   "sideBar": true,
   "skip_h1_title": false,
   "title_cell": "Table of Contents",
   "title_sidebar": "Contents",
   "toc_cell": false,
   "toc_position": {},
   "toc_section_display": true,
   "toc_window_display": false
  },
  "varInspector": {
   "cols": {
    "lenName": 16,
    "lenType": 16,
    "lenVar": 40
   },
   "kernels_config": {
    "python": {
     "delete_cmd_postfix": "",
     "delete_cmd_prefix": "del ",
     "library": "var_list.py",
     "varRefreshCmd": "print(var_dic_list())"
    },
    "r": {
     "delete_cmd_postfix": ") ",
     "delete_cmd_prefix": "rm(",
     "library": "var_list.r",
     "varRefreshCmd": "cat(var_dic_list()) "
    }
   },
   "types_to_exclude": [
    "module",
    "function",
    "builtin_function_or_method",
    "instance",
    "_Feature"
   ],
   "window_display": false
  }
 },
 "nbformat": 4,
 "nbformat_minor": 2
}
