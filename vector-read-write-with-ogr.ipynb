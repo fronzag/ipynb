{
 "cells": [
  {
   "cell_type": "markdown",
   "metadata": {},
   "source": [
    "# <span style=\"color:#336699\">SER-347 - Introdução à Programação para Sensoriamento Remoto</span>\n",
    "<hr style=\"border:2px solid #0077b9;\">\n",
    "\n",
    "# <span style=\"color:#336699\">Leitura e Escrita de Dados Vetoriais - Parte II: Usando a Biblioteca GDAL/OGR</span>\n",
    "\n",
    "\n",
    "[<img src=\"img/fiona/feature-collection.png\" alt=\"Coleção de Feições\" width=\"150\" align=\"right\">](https://www.dpi.inpe.br)\n",
    "\n",
    "\n",
    "- Gilberto Ribeiro de Queiroz\n",
    "- Thales Sehn Körting\n",
    "- Fabiano Morelli"
   ]
  },
  {
   "cell_type": "code",
   "execution_count": null,
   "metadata": {},
   "outputs": [],
   "source": [
    "!ls -l data"
   ]
  },
  {
   "cell_type": "code",
   "execution_count": null,
   "metadata": {},
   "outputs": [],
   "source": [
    "import sys\n",
    "\n",
    "try:\n",
    "    from osgeo import gdal, ogr\n",
    "except:\n",
    "    sys.exit('ERRO: módulo GDAL/OGR não encontrado!')\n",
    "\n",
    "# versão da biblioteca GDAL/OGR\n",
    "print(gdal.VersionInfo('VERSION'))"
   ]
  },
  {
   "cell_type": "code",
   "execution_count": null,
   "metadata": {},
   "outputs": [],
   "source": [
    "shp = ogr.Open('data/deter/deter_201707.shp')"
   ]
  },
  {
   "cell_type": "code",
   "execution_count": null,
   "metadata": {},
   "outputs": [],
   "source": [
    "type(shp)"
   ]
  },
  {
   "cell_type": "code",
   "execution_count": null,
   "metadata": {},
   "outputs": [],
   "source": [
    "layer = shp.GetLayer('deter_201707')\n",
    "\n",
    "type(layer)"
   ]
  },
  {
   "cell_type": "code",
   "execution_count": null,
   "metadata": {},
   "outputs": [],
   "source": [
    "nome_layer = layer.GetName()\n",
    "print(f'Layer: {nome_layer}')\n",
    "\n",
    "bbox = layer.GetExtent()\n",
    "print(f'\\tExtensão.......: {bbox}')\n",
    "\n",
    "crs = layer.GetSpatialRef().ExportToWkt()\n",
    "print(f'\\tSRS............: {crs}')\n",
    "\n",
    "tipo_geometrias = layer.GetGeomType()\n",
    "print(f'\\tTipo Geométrico: {tipo_geometrias}')\n",
    "\n",
    "print('\\tPolígonos......?', tipo_geometrias == ogr.wkbPolygon)\n",
    "\n",
    "num_features = layer.GetFeatureCount()\n",
    "print(f'\\t#Feições.......: {num_features}')"
   ]
  },
  {
   "cell_type": "code",
   "execution_count": null,
   "metadata": {},
   "outputs": [],
   "source": [
    "layer_def = layer.GetLayerDefn()\n",
    "\n",
    "print(\"Name       - Type    Width  Precision\")\n",
    "\n",
    "for i in range(layer_def.GetFieldCount()):\n",
    "\n",
    "    field_name =  layer_def.GetFieldDefn(i).GetName()\n",
    "    field_type_code = layer_def.GetFieldDefn(i).GetType()\n",
    "    field_type = layer_def.GetFieldDefn(i).GetFieldTypeName(field_type_code)\n",
    "    field_width = layer_def.GetFieldDefn(i).GetWidth()\n",
    "    field_precision = layer_def.GetFieldDefn(i).GetPrecision()\n",
    "\n",
    "    print(field_name.ljust(10) + \" - \" + \\\n",
    "          field_type.ljust(7) + \" \" + \\\n",
    "          str(field_width).ljust(6) + \" \" + \\\n",
    "          str(field_precision))"
   ]
  },
  {
   "cell_type": "code",
   "execution_count": null,
   "metadata": {},
   "outputs": [],
   "source": [
    "for feature in layer:\n",
    "    view_date = feature.GetField(\"view_date\")\n",
    "\n",
    "    geom = feature.GetGeometryRef()\n",
    "\n",
    "    centroide = geom.Centroid()\n",
    "\n",
    "    print( \"view_date: {}, Localização: {}\".format(view_date, centroide.ExportToWkt()) )"
   ]
  }
 ],
 "metadata": {
  "kernelspec": {
   "display_name": "Python (Geospatial)",
   "language": "python",
   "name": "geospatial"
  },
  "language_info": {
   "codemirror_mode": {
    "name": "ipython",
    "version": 3
   },
   "file_extension": ".py",
   "mimetype": "text/x-python",
   "name": "python",
   "nbconvert_exporter": "python",
   "pygments_lexer": "ipython3",
   "version": "3.7.7"
  }
 },
 "nbformat": 4,
 "nbformat_minor": 2
}
