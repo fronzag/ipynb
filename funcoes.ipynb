{
 "cells": [
  {
   "cell_type": "markdown",
   "metadata": {},
   "source": [
    "# <span style=\"color:#336699\">SER-347 - Introdução à Programação para Sensoriamento Remoto</span>\n",
    "<hr style=\"border:2px solid #0077b9;\">\n",
    "\n",
    "# <span style=\"color:#336699\">Funções</span>\n",
    "\n",
    "- Gilberto Ribeiro de Queiroz\n",
    "- Thales Sehn Körting"
   ]
  },
  {
   "cell_type": "markdown",
   "metadata": {},
   "source": [
    "# 1. Introdução\n",
    "<hr style=\"border:1px solid #0077b9;\">"
   ]
  },
  {
   "cell_type": "markdown",
   "metadata": {},
   "source": [
    "Toda linguagem de programação de alto nível possui alguns comandos que são compostos, isto é, comandos que contém grupos de outros comandos. Os comandos `if`, `while`, e `for`, vistos nas aulas anteriores, são exemplos de comandos compostos que permitem controlar o fluxo de execução de um outro grupo de comandos.\n",
    "\n",
    "Como vimos, um laço do tipo `while` pode conter um único comando ou uma sequência de diversos outros comandos, inclusive pode conter outros comandos do tipo `while` (chamamos isso de comandos `while` aninhados).\n",
    "\n",
    "Em Python, temos outros quatro tipos de comandos compostos, são eles:\n",
    "- `try`: que define um bloco de comandos onde é possível realizar tratamento de exceções durante a execução de seus comandos.<br><br>\n",
    "\n",
    "- `with`: definição de um blocos de comandos que deva inicializar algum recurso no início da sua execução e ao final da sua execução tenha que finalizar (ou liberar) esses recursos.<br><br>\n",
    "\n",
    "- `def`: permite definir uma função.<br><br>\n",
    "\n",
    "- `class`: permite definição de classes.\n",
    "\n",
    "Esta aula irá abordar o tópico de criação de funções. Em outras aulas iremos discutir os demais comandos compostos."
   ]
  },
  {
   "cell_type": "markdown",
   "metadata": {},
   "source": [
    "# 2. Funções\n",
    "<hr style=\"border:1px solid #0077b9;\">"
   ]
  },
  {
   "cell_type": "markdown",
   "metadata": {},
   "source": [
    "Uma forma de modularizar programas consiste em organizá-los em **procedimentos** ou **funções**. Uma função é um bloco de código auto-contido, identificado com um nome, uma lista de parâmetros e que pode ser invocada em nossos programas da mesma forma que as funções da linguagem Python.\n",
    "\n",
    "A `Figura 1` apresenta a lógica de uso de uma função denominada `f`. Repare que o programa após executar os comandos `comando #1` e `comando #2`, desvia seu fluxo de execução ao atingir o comando `v = f(...)`. Nesse ponto dizemos que a função `f` foi *chamada* ou *invocada*. O fluxo é então desviado para a sequência de instruções definida pela função, mostrada no lado direito da `Figura 1`. A sequência de comandos da função `f` é encerrada quando o comando `return` é encontrado, devolvendo o controle do programa para a linha onde a função foi chamada. O valor produzido pela função `f` será associado ao nome `v` (ou variável `v`) e o programa continuará a execução da sequência de instruções a partir do comando `comando #i + 1`.\n",
    "\n",
    "<center><img src=\"img/funcoes/chamada-funcoes.png\" alt=\"Ilustração da chamada de uma função\" width=\"640\"><br>\n",
    "    <b>Figura 1</b> - Ilustração do processo de chamada de uma função.</center>"
   ]
  },
  {
   "cell_type": "markdown",
   "metadata": {},
   "source": [
    "# 3. Definindo uma Função\n",
    "<hr style=\"border:1px solid #0077b9;\">"
   ]
  },
  {
   "cell_type": "markdown",
   "metadata": {},
   "source": [
    "Uma função em Python pode ser definida utilizando a palavra reservada `def` seguida do nome da função e a lista de parâmetros formais dessa função. A `Figura 2` mostra a definição da função `Fatorial`. A linha com a *assinatura* ou *declaração* da função é terminada com o símbolo `:`. Logo abaixo dessa linha incluímos o corpo da função, isto é, uma sequência de comandos que implementa a funcionalidade a ser fornecida pela função. Repare que a sequência de comandos do corpo da função deve ser indentada, isto é, a sequência deve possuir um recuo à direita. Em geral, usamos 4 espaços nesse recuo.\n",
    "\n",
    "<center><img src=\"img/funcoes/definicao-funcao.png\" alt=\"Definindo uma função chamada Fatorial\" width=\"480\"><br>\n",
    "    <b>Figura 2</b> - Definição de uma função chamada `Fatorial`.</center>\n",
    "\n",
    "A instrução `return` pode ser usada para indicar um ponto de saída da função, isto é, um ponto em que ela já tenha realizado sua computação e deva retornar um mais valores produzidos pela função.\n",
    "\n",
    "Uma função pode não retornar nenhum valor, como é o caso da função `print` de Python que apenas escreve um texto na saída padrão. Nesse tipo de função a instrução `return` pode ser utilizada sem nenhuma expressão a sua direita.\n",
    "\n",
    "Em Python uma função pode retornar mais de um valor. Nesse caso a instrução `return` pode ser usada para retornar uma lista de valores.\n",
    "\n",
    "A função `Fatorial` mostrada abaixo computa o fatorial de um número inteiro positivo:"
   ]
  },
  {
   "cell_type": "code",
   "execution_count": null,
   "metadata": {},
   "outputs": [],
   "source": [
    "def Fatorial(num):\n",
    "\n",
    "    if (num < 0) or (type(num) != int):\n",
    "        raise ValueError(\"O Fatorial só é definido para números inteiros positivos!\")\n",
    "\n",
    "    produto = 1\n",
    "\n",
    "    while(num > 0):\n",
    "        produto = produto * num\n",
    "\n",
    "        num = num - 1\n",
    "\n",
    "    return produto"
   ]
  },
  {
   "cell_type": "markdown",
   "metadata": {},
   "source": [
    "Repare na definição da função `Fatorial` (`linha 1`) que ela possui um único parâmetro formal chamado `num`. Isso indica que a função `Fatorial` deverá ser chamada com apenas um argumento. Além disso, na `linha 13` após terminar a computação do valor do fatorial que estará associado ao nome `produto`, a instrução `return` irá retornar o fluxo de execução do programa para a linha que chamou essa função.\n",
    "\n",
    "Na definição da função `Fatorial` acima, ainda podemos observar que o bloco de comandos contido na função encontra-se indentado com 4 espaços. A `linha 4` possui um recuo maior pois esse comando faz parte do comando `if` da `linha 3`. Da mesma maneira, as `linhas 9 e 10` possuem um recuo maior pois fazem parte da instrução `while` da `linha 8`.\n",
    "\n",
    "O trecho de código abaixo mostra como essa função pode ser chamada em um programa, supondo que ela tenha sido definida anteriormente:"
   ]
  },
  {
   "cell_type": "code",
   "execution_count": null,
   "metadata": {},
   "outputs": [],
   "source": [
    "print(\"Exemplo de uso da função Fatorial!\")\n",
    " \n",
    "resultado = Fatorial(6)\n",
    "\n",
    "print(resultado)"
   ]
  },
  {
   "cell_type": "code",
   "execution_count": null,
   "metadata": {},
   "outputs": [],
   "source": [
    "resultado = Fatorial()"
   ]
  },
  {
   "cell_type": "markdown",
   "metadata": {},
   "source": [
    "Na linha 3 do programa acima, ao chamar a função `Fatorial` com o valor `6` como argumento dessa função, o fluxo de controle é passado para a sequência de comandos do corpo da função `Fatorial`. O valor `6` será associado ao parâmetro `num` na função `Fatorial`, ou seja, dentro da função esse valor `6` será usado através da variável `num`. A `linha 13` da função `Fatorial` retorna o valor calculado, que ficará então associado ao nome `resultado` na `linha 3` do programa, que então voltará a executar sua sequência de instruções.\n",
    "\n",
    "Agora, vamos criar uma nova função para calcular a distância euclidiana entre dois pontos no espaço cartesiano:"
   ]
  },
  {
   "cell_type": "code",
   "execution_count": null,
   "metadata": {},
   "outputs": [],
   "source": [
    "import math\n",
    "\n",
    "def DistanciaEuclidiana(x1, y1, x2, y2):\n",
    "      \n",
    "    Δx = x1 - x2\n",
    "    Δy = y1 - y2\n",
    "    \n",
    "    d = math.sqrt(Δx**2 + Δy**2)\n",
    "    \n",
    "    return d"
   ]
  },
  {
   "cell_type": "markdown",
   "metadata": {},
   "source": [
    "Essa nova função foi nomeada de `DistanciaEuclidiana`, sendo definida com quatro parâmetros: `x1`, `y1`, `x2`, e `y2`. Portanto, para ser usada em um programa ela deverá ser chamada fornecendo quatro argumentos, como no programa abaixo:"
   ]
  },
  {
   "cell_type": "code",
   "execution_count": null,
   "metadata": {},
   "outputs": [],
   "source": [
    "d1 = DistanciaEuclidiana(0, 0, 1, 1)\n",
    "\n",
    "print(d1)\n",
    "\n",
    "d2 = DistanciaEuclidiana(2, 3, 10, 3)\n",
    "\n",
    "print(d2)"
   ]
  },
  {
   "cell_type": "markdown",
   "metadata": {},
   "source": [
    "Se você informar um número menor de argumentos na chamada da função `DistanciaEuclidiana`, como no trecho de código abaixo, o compilador Python irá lançar uma exceção, indicando o erro da falta do quarto parâmetro:"
   ]
  },
  {
   "cell_type": "code",
   "execution_count": null,
   "metadata": {},
   "outputs": [],
   "source": [
    "d3 = DistanciaEuclidiana(0, 0, 1)\n",
    "\n",
    "print(d3)"
   ]
  },
  {
   "cell_type": "markdown",
   "metadata": {},
   "source": [
    "**Observação:** A definição de uma função não faz com que o corpo da função seja executada. O corpo somente é executado quando a função é chamada (ou invocada)."
   ]
  },
  {
   "cell_type": "markdown",
   "metadata": {},
   "source": [
    "# 4. Funções Recursivas\n",
    "<hr style=\"border:1px solid #0077b9;\">"
   ]
  },
  {
   "cell_type": "markdown",
   "metadata": {},
   "source": [
    "Como você deve ter observado na função `DistanciaEuclidiana`, uma função pode chamar outras funções, como foi o caso da função `math.sqrt` da biblioteca padrão de Python. Isso possbilita a construção de programas bem organizados, agrupando a lógica desse programa em várias funções menores, cada uma com um papel bem definido.\n",
    "\n",
    "Outro recurso das linguagens de programação é a criação de **funções recursivas**, isto é, funções que são definidas através de chamadas da própria função. Esse recurso é muito importante pois vários problemas são inerentemente recursivos por natureza. Por exemplo, o fatorial de um número $n$, $n \\in Z^+$, pode ser definido através da seguinte equação de recorrência:\n",
    "$$\n",
    " n! =\n",
    "  \\begin{cases}\n",
    "    1       & \\quad \\text{se } n = 0\\\\\n",
    "    n \\times (n - 1)! & \\quad \\text{se } n > 0\n",
    "  \\end{cases}\n",
    "$$\n",
    "\n",
    "\n",
    "Uma função para calcular o fatorial poderia ser expressa da seguinte forma:"
   ]
  },
  {
   "cell_type": "code",
   "execution_count": null,
   "metadata": {},
   "outputs": [],
   "source": [
    "def FatorialRec(n):\n",
    "\n",
    "    if n == 0:\n",
    "        return 1\n",
    "    else:\n",
    "        return n * FatorialRec(n - 1) "
   ]
  },
  {
   "cell_type": "markdown",
   "metadata": {},
   "source": [
    "Repare como essa versão da função fatorial é mais simples de ser compreendida do que a função definida no início dessa aula, que foi construída de forma iterativa através de um laço do tipo `while`.\n",
    "\n",
    "A forma de usar a função `FatorialRec` é a mesma de uma função não-recursiva:"
   ]
  },
  {
   "cell_type": "code",
   "execution_count": null,
   "metadata": {},
   "outputs": [],
   "source": [
    "print(\"Exemplo de uso da função fatorial recursiva!\")\n",
    "\n",
    "resultado = FatorialRec(6)\n",
    "\n",
    "print(resultado)"
   ]
  },
  {
   "cell_type": "markdown",
   "metadata": {},
   "source": [
    "Observações:\n",
    "- Nem sempre um algoritmo implementado de forma **recursiva** será mais fácil de ser compreendido do que sua versão **iterativa**.<br><br>\n",
    "\n",
    "- Muitas vezes, as funções recursivas podem sofrer com problemas de eficiência, uma vez que elas fazem com que as chamadas sejam empilhadas diversas vezes. Mas uma boa prática de programação consiste em primeiro construir uma algoritmo que funcione corretamente e depois otimizá-lo, seja removendo a recursividade ou utilizando alguma técnica especial.<br><br>\n",
    "\n",
    "- Vários compiladores eliminam automaticamente a recursividade durante a compilação de uma função recursiva. No entanto, Python não faz isso.<br><br>\n",
    "\n",
    "Um exemplo de mau emprego da recursividade ocorre no cálculo de um termo da sequência de Fibonacci. Lembrando que essa sequência é definida através da seguinte fórmula de recorrência:\n",
    "\n",
    "$$\n",
    " F(n) =\n",
    "  \\begin{cases}\n",
    "    1       & \\quad \\text{se } n = 1\\\\\n",
    "    1       & \\quad \\text{se } n = 2\\\\\n",
    "    F(n - 1) + F(n - 2) & \\quad \\text{se } n > 2\n",
    "  \\end{cases}\n",
    "$$\n",
    "\n",
    "Portanto, essa fórmula nos permitiria computar os termos da série:\n",
    "```\n",
    "1, 1, 2, 3, 5, 8, 13, 21, 34, 55, 89, 144, ...\n",
    "```\n",
    "\n",
    "Vamos criar uma função chamada `FibRec` que implemente essa fórmula de maneira recursiva:"
   ]
  },
  {
   "cell_type": "code",
   "execution_count": null,
   "metadata": {},
   "outputs": [],
   "source": [
    "def FibRec(n):\n",
    "    if (n == 1) or (n == 2):\n",
    "        return 1\n",
    "    else:\n",
    "        return FibRec(n - 1) + FibRec(n - 2)"
   ]
  },
  {
   "cell_type": "markdown",
   "metadata": {},
   "source": [
    "Para calcularmos o nono termo da série, poderíamos chamar a função `FibRec` da seguinte maneira:"
   ]
  },
  {
   "cell_type": "code",
   "execution_count": null,
   "metadata": {},
   "outputs": [],
   "source": [
    "FibRec(9)"
   ]
  },
  {
   "cell_type": "markdown",
   "metadata": {},
   "source": [
    "A versão iterativa da função que computa os termos de Fibonacci é mostrada abaixo:"
   ]
  },
  {
   "cell_type": "code",
   "execution_count": null,
   "metadata": {},
   "outputs": [],
   "source": [
    "def FibIter(n):\n",
    "    a, b = 1, 1\n",
    "    \n",
    "    while n > 2:\n",
    "        a, b = b, a + b\n",
    "        n -= 1\n",
    "\n",
    "    return b"
   ]
  },
  {
   "cell_type": "markdown",
   "metadata": {},
   "source": [
    "Assim como na função recursiva, nessa versão iterativa para calcularmos o nono termo da série basta chamar a função `FibIter`:"
   ]
  },
  {
   "cell_type": "code",
   "execution_count": null,
   "metadata": {},
   "outputs": [],
   "source": [
    "FibIter(9)"
   ]
  },
  {
   "cell_type": "markdown",
   "metadata": {},
   "source": [
    "Qual a diferença na forma de computar os termos da série de Fibonacci entre as versões recursiva (`FibRec`) e iterativa (`FibIter`)?\n",
    "\n",
    "Repare que enquanto a versão iterativa reaproveita os valores calculados em cada iteração, a versão recursiva recomputa todos os valores já computados em alguma outra chamada recursiva.\n",
    "\n",
    "Veja que essa diferença não ocorre entre as versões recursiva e iterativa da função fatorial, pois o fatorial recursivo nunca chama novamente a função fatorial para um mesmo número."
   ]
  },
  {
   "cell_type": "markdown",
   "metadata": {},
   "source": [
    "# 5. Funções com Número Variável de Argumentos\n",
    "<hr style=\"border:1px solid #0077b9;\">"
   ]
  },
  {
   "cell_type": "markdown",
   "metadata": {},
   "source": [
    "Em geral as linguagens de programação imperativa permitem criar funções que podem ser chamadas com um número diferente de argumentos. Em Python temos três formas de construir funções com número variável de argumentos. Esta seção discute como criar tais funções."
   ]
  },
  {
   "cell_type": "markdown",
   "metadata": {},
   "source": [
    "## 5.1. Parâmetros Default\n",
    "<hr style=\"border:0.25px solid #0077b9;\">"
   ]
  },
  {
   "cell_type": "markdown",
   "metadata": {},
   "source": [
    "Os parâmetros de uma função podem ser associados a valores *default*, isto é, caso o parâmetro seja omitido na chamada da função, o valor *default* será utilizado. Dessa forma, podemos criar uma função que pode ser chamada com um número menor de argumentos do que a lista de parâmetros da sua definição.\n",
    "\n",
    "A função `Graus2Radianos` mostrada abaixo define o valor padrão de $3.14$ para o parâmetro $\\pi$."
   ]
  },
  {
   "cell_type": "code",
   "execution_count": null,
   "metadata": {},
   "outputs": [],
   "source": [
    "def Graus2Radianos(α, π=3.14):\n",
    "    x = α * π / 180.0\n",
    "    \n",
    "    return x"
   ]
  },
  {
   "cell_type": "markdown",
   "metadata": {},
   "source": [
    "A função acima pode ser chamada com apenas um argumento, onde informamos o valor do ângulo $\\alpha$ a ser convertido de graus para radianos:"
   ]
  },
  {
   "cell_type": "code",
   "execution_count": null,
   "metadata": {},
   "outputs": [],
   "source": [
    "Graus2Radianos(45)"
   ]
  },
  {
   "cell_type": "markdown",
   "metadata": {},
   "source": [
    "Ou pode ser chamada informando-se um novo valor para o parâmetro $\\pi$:"
   ]
  },
  {
   "cell_type": "code",
   "execution_count": null,
   "metadata": {},
   "outputs": [],
   "source": [
    "Graus2Radianos(45, 3.1)"
   ]
  },
  {
   "cell_type": "markdown",
   "metadata": {},
   "source": [
    "Como pode ser visto, ao definirmos um parâmetro como tendo um valor *default*, tornamos esse parâmetro opcional.\n",
    "\n",
    "Algumas observações sobre o uso de parâmeros *default*:\n",
    "* É importante notar que os valores de parâmetros *default* são avaliados da esquerda para a direita quando a função é definida. Isto significa que isso é feito uma única vez no programa, extamente no ponto de definição da função.<br><br>\n",
    "\n",
    "* Outro ponto importante é que após a definição de um parâmetro opcional, os demais parâmetros também devem ser opcionais, caso contrário será gerado um erro na compilação do código: \n",
    "```python\n",
    "SyntaxError: non-default argument follows default argument\n",
    "```"
   ]
  },
  {
   "cell_type": "markdown",
   "metadata": {},
   "source": [
    "## 5.2. Chamando Funções com Argumentos Nomeados\n",
    "<hr style=\"border:0.25px solid #0077b9;\">"
   ]
  },
  {
   "cell_type": "markdown",
   "metadata": {},
   "source": [
    "Uma função também pode ser chamada com os argumentos na forma de pares `nome/valor` (*keyword arguments*):"
   ]
  },
  {
   "cell_type": "code",
   "execution_count": null,
   "metadata": {},
   "outputs": [],
   "source": [
    "Graus2Radianos(π=3.1, α=45)"
   ]
  },
  {
   "cell_type": "code",
   "execution_count": null,
   "metadata": {},
   "outputs": [],
   "source": [
    "Graus2Radianos(α=45)"
   ]
  },
  {
   "cell_type": "markdown",
   "metadata": {},
   "source": [
    "Essa facilidade faz com que não precisemos lembrar a ordem exata dos argumentos em sua chamada."
   ]
  },
  {
   "cell_type": "markdown",
   "metadata": {},
   "source": [
    "## 5.3. Parâmetros `*args` e `**kwargs`\n",
    "<hr style=\"border:0.25px solid #0077b9;\">"
   ]
  },
  {
   "cell_type": "markdown",
   "metadata": {},
   "source": [
    "Em Python, podemos utilizar os parâmetros especiais `*args` e `**kwargs` para definir funções com um número variável de argumentos. \n",
    "\n",
    "A primeira forma, `*args` (com um único `*`), permite criar um função que aceite uma sequência de parâmetros não nomeados de qualquer tamanho. A função `MyPrintV1` mostrada abaixo utiliza esse tipo de parâmetro para imprimir os valores informados como argumentos:"
   ]
  },
  {
   "cell_type": "code",
   "execution_count": null,
   "metadata": {},
   "outputs": [],
   "source": [
    "def MyPrintV1(*args):\n",
    "    \n",
    "    for a in args:\n",
    "        print(a)"
   ]
  },
  {
   "cell_type": "markdown",
   "metadata": {},
   "source": [
    "Podemos chamar a função acima com um único argumento do tipo `string`:"
   ]
  },
  {
   "cell_type": "code",
   "execution_count": null,
   "metadata": {},
   "outputs": [],
   "source": [
    "MyPrintV1(\"p1\")"
   ]
  },
  {
   "cell_type": "markdown",
   "metadata": {},
   "source": [
    "Ou, com cinco números inteiros:"
   ]
  },
  {
   "cell_type": "code",
   "execution_count": null,
   "metadata": {},
   "outputs": [],
   "source": [
    "MyPrintV1(1, 3, 5, 7, 9)"
   ]
  },
  {
   "cell_type": "markdown",
   "metadata": {},
   "source": [
    "Ou, com dois números em ponto flutuante e uma `string`:"
   ]
  },
  {
   "cell_type": "code",
   "execution_count": null,
   "metadata": {},
   "outputs": [],
   "source": [
    "MyPrintV1(-20.38, -43.50, \"Ouro Preto\")"
   ]
  },
  {
   "cell_type": "markdown",
   "metadata": {},
   "source": [
    "Note que o parâmetro `*args` é na verdade uma tupla do Python.\n",
    "\n",
    "A segunda forma de criar uma função que aceita um número variável de argumentos é usar o tipo `**kwargs` (com um duplo `*`). Esse tipo de parâmetro pode ser usado para definir uma função que aceita uma lista de parâmetros nomeados de qualquer tamanho. Esse conjunto variável de parâmetros é representado como um dicionário.\n",
    "\n",
    "A função `MyPrintV2` mostrada abaixo utiliza esse tipo de parâmetro para imprimir os nome e os valores dos argumentos informados na sua chamada:"
   ]
  },
  {
   "cell_type": "code",
   "execution_count": null,
   "metadata": {},
   "outputs": [],
   "source": [
    "def MyPrintV2(**kwargs):\n",
    "   \n",
    "    for k, v in kwargs.items():\n",
    "        print( \"parametro: {}, valor:{}\".format(k, v) )"
   ]
  },
  {
   "cell_type": "markdown",
   "metadata": {},
   "source": [
    "A chamada abaixo passa três argumentos:"
   ]
  },
  {
   "cell_type": "code",
   "execution_count": null,
   "metadata": {},
   "outputs": [],
   "source": [
    "MyPrintV2(latitude=-20.38, longitude=-43.50, nome=\"Ouro Preto\")"
   ]
  },
  {
   "cell_type": "markdown",
   "metadata": {},
   "source": [
    "A chamada abaixo realiza a chamada da função `MyPrintV2` com dois argumentos:"
   ]
  },
  {
   "cell_type": "code",
   "execution_count": null,
   "metadata": {},
   "outputs": [],
   "source": [
    "MyPrintV2(longitude=-45.88, latitude=-23.17)"
   ]
  },
  {
   "cell_type": "markdown",
   "metadata": {},
   "source": [
    "# 6. Unpacking Argument Lists\n",
    "<hr style=\"border:1px solid #0077b9;\">"
   ]
  },
  {
   "cell_type": "markdown",
   "metadata": {},
   "source": [
    "Um situação muito comum é termos a lista de argumentos que desejamos passar a uma função em uma sequência (lista ou tupla) ou como membros de um dicionário e a função estar definida como parâmetros separados, como a função `Graus2Radianos` definida anteriormente. Nesse caso, podemos usar um artifício prático da linguagem Python para transformar esse objetos na sequência correta a ser informada na chamada da função. \n",
    "\n",
    "O exemplo abaixo mostra como podemos transformar os elementos de uma lista `l` no único valor a ser informado na chamada da função `Graus2Radianos`:"
   ]
  },
  {
   "cell_type": "code",
   "execution_count": null,
   "metadata": {},
   "outputs": [],
   "source": [
    "l = [45]\n",
    "\n",
    "Graus2Radianos(*l)"
   ]
  },
  {
   "cell_type": "markdown",
   "metadata": {},
   "source": [
    "O próximo exemplo mostra como podemos transformar a lista `l` contendo os dois argumentos que desejamos utilizar na chamada da função `Graus2Radianos`:"
   ]
  },
  {
   "cell_type": "code",
   "execution_count": null,
   "metadata": {},
   "outputs": [],
   "source": [
    "l = [45, 3.1]\n",
    "\n",
    "Graus2Radianos(*l)"
   ]
  },
  {
   "cell_type": "markdown",
   "metadata": {},
   "source": [
    "Finalmente, o exemplo abaixo mostra como podemos utilizar os pares `chave/valor` de um dicionário como argumentos nomeados na chamada da função `Graus2Radianos`:"
   ]
  },
  {
   "cell_type": "code",
   "execution_count": null,
   "metadata": {},
   "outputs": [],
   "source": [
    "d = {\n",
    "      \"π\": 3,\n",
    "      \"α\": 45\n",
    "    }\n",
    "\n",
    "Graus2Radianos(**d)"
   ]
  },
  {
   "cell_type": "markdown",
   "metadata": {},
   "source": [
    "# 7. Expressões Lambda\n",
    "<hr style=\"border:1px solid #0077b9;\">"
   ]
  },
  {
   "cell_type": "markdown",
   "metadata": {},
   "source": [
    "Uma **Expressão Lambda** é uma pequena função anônima criada com a palavra chave `lambda`, que permite introduzir uma função definida por uma única expressão sem a necessidade de associar um nome.\n",
    "\n",
    "As expressões lambda são muito utilizadas em Python, podendo ser usadas em qualquer lugar que é preciso informar alguma função."
   ]
  },
  {
   "cell_type": "code",
   "execution_count": null,
   "metadata": {},
   "outputs": [],
   "source": [
    "pairs = [(1, 'one'), (2, 'two'), (3, 'three'), (4, 'four')]\n",
    "\n",
    "pairs.sort(key=lambda pair: pair[1])\n",
    "\n",
    "pairs"
   ]
  },
  {
   "cell_type": "code",
   "execution_count": null,
   "metadata": {},
   "outputs": [],
   "source": [
    "pairs.sort(key=lambda pair: pair[0])\n",
    "\n",
    "pairs"
   ]
  },
  {
   "cell_type": "code",
   "execution_count": null,
   "metadata": {},
   "outputs": [],
   "source": [
    "l = [ 1, 2, 3, 4, 5 ]\n",
    "\n",
    "pot = map(lambda x: x**2, l)\n",
    "\n",
    "pot"
   ]
  },
  {
   "cell_type": "code",
   "execution_count": null,
   "metadata": {},
   "outputs": [],
   "source": [
    "list(pot)"
   ]
  },
  {
   "cell_type": "code",
   "execution_count": null,
   "metadata": {},
   "outputs": [],
   "source": [
    "u = [ 1, 2, 3, 4, 5 ]\n",
    "\n",
    "v = [ 10, 11, 12, 13, 14 ]\n",
    "\n",
    "soma = map(lambda x, y: x + y, u, v)\n",
    "\n",
    "list(soma)"
   ]
  },
  {
   "cell_type": "code",
   "execution_count": null,
   "metadata": {},
   "outputs": [],
   "source": [
    "pares = filter(lambda x: x % 2 == 0, u)\n",
    "\n",
    "list(pares)"
   ]
  },
  {
   "cell_type": "markdown",
   "metadata": {},
   "source": [
    "# 8. Strings de Documentação\n",
    "<hr style=\"border:1px solid #0077b9;\">"
   ]
  },
  {
   "cell_type": "markdown",
   "metadata": {},
   "source": [
    "Em Python é comum usarmos um literal string como a primeira instrução de uma função com a finalidade de construir sua documentação, que é chamada de `docstring`. Essa string poderá ser usada em sistemas que produzam ajuda online\n",
    "This line should begin with a capital letter and end with a period. O texto dessa string deve começar com uma letra maiúscula e terminar com um ponto final, como mostrado na documetação da função `AreaCirculo` abaixo:"
   ]
  },
  {
   "cell_type": "code",
   "execution_count": null,
   "metadata": {},
   "outputs": [],
   "source": [
    "def AreaCirculo(raio):\n",
    "    \"\"\"Calcula a área de um círculo.\n",
    "    \n",
    "    O valor restornado é a área do círculo\"\"\"\n",
    "    \n",
    "    return 3.14 * raio**2"
   ]
  },
  {
   "cell_type": "markdown",
   "metadata": {},
   "source": [
    "No Jupyter Notebook podemos verificar a documentação dessa função usando o caracter `?` seguido das teclas `SHIFT+ENTER` ou podemos usar as teclas `SHIFT+TAB` ou `SHIFT+TAB+TAB`:"
   ]
  },
  {
   "cell_type": "code",
   "execution_count": null,
   "metadata": {},
   "outputs": [],
   "source": [
    "AreaCirculo?"
   ]
  },
  {
   "cell_type": "markdown",
   "metadata": {},
   "source": [
    "# 9. Escopo das Variáveis\n",
    "<hr style=\"border:1px solid #0077b9;\">"
   ]
  },
  {
   "cell_type": "markdown",
   "metadata": {},
   "source": [
    "Existe uma discussão importante sobre a questão de visibilidade das variáveis e do seu tempo de vida, isto é, onde os nomes dessas variáveis podem ser usados e quando esses nomes deixam de existir.\n",
    "\n",
    "Em toda linguagem de programação imperativa, como é o caso de Python, existe o conceito de **escopo**.\n",
    "\n",
    "Algumas vezes usamos os termos **escopo local** e **escopo global** para nos referirmos ao contexto onde as variáveis encontram-se definidas e, consequentemete, visíveis.\n",
    "\n",
    "Quando criamos uma função, a cada invocação dessa função os parâmetros são introduzidos num **escopo local**, isto é, os nomes dos parâmetros são acessíveis (ou visíveis) apenas aos comandos dentro da função. \n",
    "\n",
    "Já os comandos dentro da função podem acessar nomes de variáveis definidos fora da função, isto é, podem acessar variáveis consideradas globais, ou seja, que pertencem a um escopo mais externo que o local, que é chamado de **escopo global**.\n",
    "\n",
    "O programa a seguir demonstra como funciona o conceito de escopo. Lembre-se de limpar seu *kernel* Jupyter antes de executar a próxima célula pois queremos que apenas esse programa seja executado no momento."
   ]
  },
  {
   "cell_type": "code",
   "execution_count": null,
   "metadata": {},
   "outputs": [],
   "source": [
    "pi = 3.14\n",
    "e = 2.71\n",
    "\n",
    "def f1(v1):\n",
    "    print(\"v1 no escopo local de f1:\", v1)\n",
    "    \n",
    "    print(\"pi no escopo local de f1:\", pi)\n",
    "    \n",
    "    e = 3\n",
    "    \n",
    "    print(\"e no escopo local de f1:\", e)\n",
    "\n",
    "        \n",
    "f1(pi)\n",
    "print(\"e no escopo global:\", e)\n",
    "\n",
    "print(\"v1 no escopo global:\", v1)"
   ]
  },
  {
   "cell_type": "markdown",
   "metadata": {},
   "source": [
    "O programa acima é executado da seguinte forma (*explicação bem simplificada!*):\n",
    "\n",
    "**1.** Os nomes `pi` e `e` são definidos no **escopo global** do programa, nas `linhas 1 e 2`, respectivamente, com os valores `3.14` e `2.71`. A partir desse ponto do programa essas duas variáveis podem ser acessadas em qualquer parte do programa, incluindo funções que sejam chamadas após a definição dessas linhas.<br><br>\n",
    "\n",
    "**2.** Em seguida, a função `f1` na `linha 5` é definida. O corpo dessa função não é executado (`linhas 5-11`). O nome `f1` passa a fazer parte do **escopo global** do programa. Dessa forma, o nome `f1` já pode ser usado em seu programa.<br><br>\n",
    "\n",
    "**3.** A `linha 14` é executada. O nome `f1` é encontrado no escopo global do programa, ativando a função `f1` com o valor associado à variável `pi` (o valor `3.14`).<br><br>\n",
    "\n",
    "**4.** A ativação da função `f1` faz com que um novo escopo local seja criado e o parâmetro `v1` na `linha 4` seja incluído nesse escopo, sendo associado ao valor `3.14` passado em sua chamada. Nesse novo escopo local, o nome `v1` pode ser utilizado para leitura e escrita. O comando `print` da `linha 5` faz com que o valor associado a `v1` seja escrito na tela (`3.14`). O comando `print` da `linha 7` acessa a variável `pi`, que não está definida no escopo local, portanto o interpretador irá buscar esse nome no escopo global. No escopo global o nome `pi` está associado ao valor `3.14` e, portanto, esse valor é escrito na saída padrão. O comando de atribuição na `linha 9` faz com que um novo nome, `e`, seja introduzido no escopo local da função `f1`, escondendo o nome `e` do escopo global. Assim, o comando `print` da `linha 11` irá acessar a variável `e` definida localmente, que está associada ao valor `3`. Ao término da execução da função `f1`, o escopo local dessa função é destruído, e junto com isso, todas as associações de nomes e valores definidas dentro da função são liberadas. Neste caso os nomes `v1` e `e` locais.<br><br>\n",
    "\n",
    "**5.** O comando `print` da `linha 15` irá escrever o valor `2.71` pois o nome `e` será encontrado no escopo global.<br><br>\n",
    "\n",
    "**6.** A execução da `linha 17` irá produzir o seguinte erro:\n",
    "```python\n",
    "NameError: name 'v1' is not defined\n",
    "```\n",
    "Isso indica que o nome `v1` não se encontra num escopo acessível naquela linha.\n",
    "\n",
    "O programa abaixo ilustra outro destalhe dessa regra de escopo das variáveis. Lembre-se de limpar seu *kernel* Jupyter antes de executar a próxima célula pois queremos que apenas esse programa seja executado no momento."
   ]
  },
  {
   "cell_type": "code",
   "execution_count": null,
   "metadata": {},
   "outputs": [],
   "source": [
    "pi = 3.14\n",
    "e = 2.71\n",
    "\n",
    "def f1(v1):\n",
    "    print(\"v1 no escopo local de f1:\", v1)\n",
    "    \n",
    "    print(\"gamma no escopo local de f1:\", gamma)\n",
    "    \n",
    "    print(\"pi no escopo local de f1:\", pi)\n",
    "    \n",
    "    print(\"e no escopo local de f1:\", e)\n",
    "\n",
    "\n",
    "gamma = 0.5772\n",
    "f1(pi)"
   ]
  },
  {
   "cell_type": "markdown",
   "metadata": {},
   "source": [
    "O programa acima irá produzir o seguinte erro:\n",
    "```python\n",
    "NameError: name 'gamma' is not defined\n",
    "```\n",
    "\n",
    "Esse erro ocorre pois a variável `gamma` não pertence ao escopo local da função  `f1` e nem foi definida ainda no escopo global do programa quando a função `f1` foi ativada na `linha 14`. \n",
    "\n",
    "Se você trocar as `linhas 14 e 15` de lugar, o programa irá executar normalmente. Lembre-se de limpar seu *kernel* Jupyter antes de executar a próxima célula."
   ]
  },
  {
   "cell_type": "code",
   "execution_count": null,
   "metadata": {},
   "outputs": [],
   "source": [
    "pi = 3.14\n",
    "e = 2.71\n",
    "\n",
    "def f1(v1):\n",
    "    print(\"v1 no escopo local de f1:\", v1)\n",
    "    \n",
    "    print(\"gamma no escopo local de f1:\", gamma)\n",
    "    \n",
    "    print(\"pi no escopo local de f1:\", pi)\n",
    "    \n",
    "    print(\"e no escopo local de f1:\", e)\n",
    "\n",
    "        \n",
    "gamma = 0.5772\n",
    "f1(pi)"
   ]
  },
  {
   "cell_type": "markdown",
   "metadata": {},
   "source": [
    "O escopo de variáveis é mantido através de tabelas especiais construídas pelos compiladores e interpretadores que são chamadas de **tabela de símbolos**.\n",
    "\n",
    "Em Python, a execução de uma função introduz uma nova tabela de símbolos, que é usada para associar as variáveis locais da função aos seu valores. Os parâmetros de uma função são inseridos nessa tabela local, assim que a função é ativada para execução. Cada comando de atribuição dentro da função fará com que o nome do lado esquerdo da atribuição seja inserido nessa tabela. Por conta disso, não é possível trocar o valor associado a uma variável do escopo mais externo usando uma simples atribuição.\n",
    "\n",
    "Dentro da função quando um identificador é encontrado em alguma expressão, primeiro o interpretador Python procura pelo símbolo nessa tabela de símbolos local. Se o identificador não é encontrado, o interpretador verifica se esse nome existe na tabela de símbolos mais externa (global) e, por último, na tabela de símbolos dos objetos pré-definidos da linguagem.\n",
    "\n",
    "Perceba que dessa forma, em Python, uma variável definida fora da função não pode ser escrita dentro de uma função pois uma atribuição sempre gera um novo símbolo no escopo local dessa função.\n",
    "\n",
    "Nas linguagens de programação temos basicamente dois tipos de mecanismos de passagem de parâmetros:\n",
    "* **Passagem por Valor:** onde uma cópia do valor informado por uma variável na chamada da função é copiado e associado ao parâmetro dessa função invocada.<br><br>\n",
    "\n",
    "* **Passagem por Referência:** neste caso o parâmetro da função se torna um *alias* ou uma *referência* para o nome da variável usada na passagem do argumento durante a chamada dessa função.\n",
    "\n",
    "O primeiro tipo de passagem, por valor, evita que a variável usada na chamada possa ser modificada diretamente. Já a segunda forma, possibilita que a variável informada seja alterada dentro da função.\n",
    "\n",
    "Em Python as chamadas de função são realizadas por valor. No entanto, objetos como listas e dicionários possuem o efeito de chamadas por referência pois internamente a cópia das variáveis referenciam o mesmo conteúdo."
   ]
  },
  {
   "cell_type": "markdown",
   "metadata": {},
   "source": [
    "# Exercícios\n",
    "<hr style=\"border:1px solid #0077b9;\">"
   ]
  },
  {
   "cell_type": "markdown",
   "metadata": {},
   "source": [
    "**Exercício 1.** A fórmula de Haversine possbilita o cálculo de distâncias entre dois pontos em uma esfera a partir de suas latitudes e longitudes. Dada a seguinte fórmula:\n",
    "\n",
    "$$\n",
    "d = 2r \\arcsin{\\sqrt{sin^2({\\frac{\\phi_2 - \\phi_1}{2}}) + \\cos{\\phi_1} \\cos{\\phi_2} \\sin^2({\\frac{\\lambda_2 - \\lambda_1}{2}})}}\n",
    "$$\n",
    "\n",
    "onde:\n",
    "- **$d$:** distância entre dois pontos na esfera.\n",
    "- **$r$:** é o raio da esfera (~6371km).\n",
    "- **$\\phi_1$** e **$\\phi_2$:** latitude dos pontos em radianos.\n",
    "- **$\\lambda_1$** e **$\\lambda_2$:** longitude dos pontos em radianos.\n",
    "\n",
    "Construa uma função chamada `DistanciaHaversine` que receba quatro valores de entrada representando duas localizações quaisquer em grau-decimal e que retorne um único valor com a distância em `km`. Para maiores detalhes sobre essa fórmua, veja a [Wikipedia](https://en.wikipedia.org/wiki/Haversine_formula).\n",
    "\n",
    "**Solução:**"
   ]
  },
  {
   "cell_type": "code",
   "execution_count": null,
   "metadata": {},
   "outputs": [],
   "source": [
    "%load scripts/haversine.py"
   ]
  },
  {
   "cell_type": "markdown",
   "metadata": {},
   "source": [
    "No trecho de código acima, demos o nome de `DistanciaHaversive` para a função, que foi definida com quatro parâmetros formais:\n",
    "- `lat1`: latitude do ponto 1 em graus decimal.\n",
    "- `long1`: longitude do ponto 1 em graus decimal.\n",
    "- `lat2`: latitude do ponto 2 em graus decimal.\n",
    "- `long2`: longitude do ponto 2 em graus decimal.\n",
    "\n",
    "Podemos computar a distância entre São José dos Campos (SP) e Ouro Preto (MG) da seguinte forma:"
   ]
  },
  {
   "cell_type": "code",
   "execution_count": null,
   "metadata": {},
   "outputs": [],
   "source": [
    "d = DistanciaHaversive(-23.17, -45.88, -20.38, -43.50)\n",
    "\n",
    "\n",
    "print(\"Distância: {0:.3f}km\".format(d))"
   ]
  },
  {
   "cell_type": "markdown",
   "metadata": {},
   "source": [
    "# Considerações Finais\n",
    "<hr style=\"border:1px solid #0077b9;\">"
   ]
  },
  {
   "cell_type": "markdown",
   "metadata": {},
   "source": [
    "Os nomes `args` e `kwargs`, usados na definição de funções com número de parâmetros variáveis, não são obrigatórios, embora seja um idioma comum em Python. Bibliotecas como a Matplotlib utilizam bastante esses tipos de parâmetros para fornecer maior flexibilidade na chamada de funções e métodos das funcionalidades providas por ela. Nas versões 3.6 e supoeriores de Python, os pares `chave-valor` (*key-value pairs*) serão informados em ordem pois a implimentação do tipo dicionário é ordenado. Em versões anteriores a essa, o tipo dicionário é um tipo não ordenado (*unordered*), o que significa que você receberá os parâmetros em ordem aleatória.\n",
    "\n",
    "Toda função em Python retorna algum valor. Caso o comando `return` seja usado sem valor, o valor `None` é retornado. Se você não incluir um comando `return` no bloco de comandos da função ou se por acaso algum caminho da sua função fizer com que a função termine sem uma insrução `return`, automaticamente será retornado o valor `None`.\n",
    "\n",
    "Quando definimos um parâmetro com valor default, devemos tomar cuidado ao usar valores \"mutáveis\". Observe o exemplo abaixo:"
   ]
  },
  {
   "cell_type": "code",
   "execution_count": null,
   "metadata": {},
   "outputs": [],
   "source": [
    "def MinhaFuncao(data=[]):\n",
    "    data.append(9)\n",
    "    \n",
    "    return data"
   ]
  },
  {
   "cell_type": "code",
   "execution_count": null,
   "metadata": {},
   "outputs": [],
   "source": [
    "MinhaFuncao()"
   ]
  },
  {
   "cell_type": "code",
   "execution_count": null,
   "metadata": {},
   "outputs": [],
   "source": [
    "MinhaFuncao()"
   ]
  },
  {
   "cell_type": "code",
   "execution_count": null,
   "metadata": {},
   "outputs": [],
   "source": [
    "MinhaFuncao()"
   ]
  },
  {
   "cell_type": "markdown",
   "metadata": {},
   "source": [
    "Como pode ser observado, a lista continua crescendo à medida que usamos a função `MinhaFuncal`. Isso ocorre porque o valor da expressão com o valor *default* é realizado apenas uma única vez, quando a função é definida. Por conta dessa armadilha, em geral, definimos funções como essas da seguinte forma:"
   ]
  },
  {
   "cell_type": "code",
   "execution_count": null,
   "metadata": {},
   "outputs": [],
   "source": [
    "def MinhaFuncao2(data=None):\n",
    "\n",
    "    if data is None:\n",
    "        data = []\n",
    "    else:\n",
    "        data.append(9)\n",
    "    \n",
    "    return data"
   ]
  },
  {
   "cell_type": "code",
   "execution_count": null,
   "metadata": {},
   "outputs": [],
   "source": [
    "MinhaFuncao2()"
   ]
  },
  {
   "cell_type": "code",
   "execution_count": null,
   "metadata": {},
   "outputs": [],
   "source": [
    "MinhaFuncao2([3])"
   ]
  },
  {
   "cell_type": "code",
   "execution_count": null,
   "metadata": {},
   "outputs": [],
   "source": [
    "MinhaFuncao2([4])"
   ]
  },
  {
   "cell_type": "markdown",
   "metadata": {},
   "source": [
    "# Referências Bibliográficas\n",
    "<hr style=\"border:1px solid #0077b9;\">"
   ]
  },
  {
   "cell_type": "markdown",
   "metadata": {},
   "source": [
    "* [The Python Tutorial - 4.6. Defining Functions](https://docs.python.org/3/tutorial/controlflow.html#defining-functions). Acesso em: 24 de Maio de 2018.<br><br>\n",
    "\n",
    "* [The Python Tutorial - 4.7.6. Documentation Strings](https://docs.python.org/3/tutorial/controlflow.html#documentation-strings). Acesso em: 24 de Maio de 2018.<br><br>\n",
    "\n",
    "* [The Python Language Reference - 8.6. Function definitions](https://docs.python.org/3/reference/compound_stmts.html#function-definitions). Acesso em: 24 de Maio de 2018.<br><br>\n",
    "\n",
    "* [The Python Language Reference - 4.3. Exceptions](https://docs.python.org/3/reference/executionmodel.html#exceptions). Acesso em: 24 de Maio de 2018.<br><br>\n",
    "\n",
    "* [The Python Language Reference - 3.3.8. With Statement Context Managers](https://docs.python.org/3/reference/datamodel.html#context-managers). Acesso em: 24 de Maio de 2018.<br><br>\n",
    "\n",
    "* [The Python Tutorial - 9. Classes](https://docs.python.org/3/tutorial/classes.html#tut-classes). Acesso em: 24 de Maio de 2018.<br><br>\n",
    "\n",
    "* Lisa Tagliaferri. [How To Use *args and **kwargs in Python 3](https://www.digitalocean.com/community/tutorials/how-to-use-args-and-kwargs-in-python-3). Acesso em: 24 de Maio de 2018.<br><br>\n",
    "\n",
    "* [Common Gotchas](http://docs.python-guide.org/en/latest/writing/gotchas/). Acesso em: 24 de Maio de 2018.<br><br>\n",
    "\n",
    "* Fredrik Lundh. [Default Parameter Values in Python](http://effbot.org/zone/default-values.htm). Acesso em: 24 de Maio de 2018.<br><br>\n",
    "\n",
    "* Leonardo Giordani. [Default arguments in Python](http://blog.thedigitalcatonline.com/blog/2015/02/11/default-arguments-in-python/). Acesso em: 24 de Maio de 2018.<br><br>\n",
    "\n",
    "* [Lambda, filter, reduce and map](https://www.python-course.eu/python3_lambda.php). Acesso em: 24 de Maio de 2018."
   ]
  }
 ],
 "metadata": {
  "kernelspec": {
   "display_name": "Python 3",
   "language": "python",
   "name": "python3"
  },
  "language_info": {
   "codemirror_mode": {
    "name": "ipython",
    "version": 3
   },
   "file_extension": ".py",
   "mimetype": "text/x-python",
   "name": "python",
   "nbconvert_exporter": "python",
   "pygments_lexer": "ipython3",
   "version": "3.7.4"
  },
  "toc": {
   "base_numbering": 1,
   "nav_menu": {},
   "number_sections": false,
   "sideBar": true,
   "skip_h1_title": false,
   "title_cell": "Table of Contents",
   "title_sidebar": "Contents",
   "toc_cell": false,
   "toc_position": {},
   "toc_section_display": true,
   "toc_window_display": false
  }
 },
 "nbformat": 4,
 "nbformat_minor": 2
}
